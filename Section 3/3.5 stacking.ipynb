{
 "cells": [
  {
   "cell_type": "code",
   "execution_count": 1,
   "metadata": {
    "collapsed": true
   },
   "outputs": [],
   "source": [
    "import pandas as pd\n",
    "import numpy as np\n",
    "import lightgbm as lgb\n",
    "from catboost import CatBoostClassifier\n",
    "from sklearn.model_selection import train_test_split\n",
    "from sklearn.metrics import accuracy_score\n",
    "from sklearn.linear_model import LogisticRegression\n",
    "import warnings\n",
    "from sklearn import preprocessing\n",
    "from sklearn.neighbors import KNeighborsClassifier\n",
    "from sklearn.preprocessing import StandardScaler\n",
    "warnings.filterwarnings(\"ignore\")\n",
    "np.random.seed(42)"
   ]
  },
  {
   "cell_type": "code",
   "execution_count": 2,
   "metadata": {},
   "outputs": [
    {
     "data": {
      "text/html": [
       "<div>\n",
       "<style scoped>\n",
       "    .dataframe tbody tr th:only-of-type {\n",
       "        vertical-align: middle;\n",
       "    }\n",
       "\n",
       "    .dataframe tbody tr th {\n",
       "        vertical-align: top;\n",
       "    }\n",
       "\n",
       "    .dataframe thead th {\n",
       "        text-align: right;\n",
       "    }\n",
       "</style>\n",
       "<table border=\"1\" class=\"dataframe\">\n",
       "  <thead>\n",
       "    <tr style=\"text-align: right;\">\n",
       "      <th></th>\n",
       "      <th>v1</th>\n",
       "      <th>v2</th>\n",
       "      <th>v3</th>\n",
       "      <th>v4</th>\n",
       "      <th>v5</th>\n",
       "      <th>v6</th>\n",
       "      <th>v7</th>\n",
       "      <th>v8</th>\n",
       "      <th>v9</th>\n",
       "      <th>v10</th>\n",
       "      <th>...</th>\n",
       "      <th>v122</th>\n",
       "      <th>v123</th>\n",
       "      <th>v124</th>\n",
       "      <th>v125</th>\n",
       "      <th>v126</th>\n",
       "      <th>v127</th>\n",
       "      <th>v128</th>\n",
       "      <th>v129</th>\n",
       "      <th>v130</th>\n",
       "      <th>v131</th>\n",
       "    </tr>\n",
       "  </thead>\n",
       "  <tbody>\n",
       "    <tr>\n",
       "      <th>0</th>\n",
       "      <td>1.335739</td>\n",
       "      <td>8.727474</td>\n",
       "      <td>C</td>\n",
       "      <td>3.921026</td>\n",
       "      <td>7.915266</td>\n",
       "      <td>2.599278</td>\n",
       "      <td>3.176895</td>\n",
       "      <td>0.012941</td>\n",
       "      <td>9.999999</td>\n",
       "      <td>0.503281</td>\n",
       "      <td>...</td>\n",
       "      <td>8.000000</td>\n",
       "      <td>1.989780</td>\n",
       "      <td>0.035754</td>\n",
       "      <td>AU</td>\n",
       "      <td>1.804126</td>\n",
       "      <td>3.113719</td>\n",
       "      <td>2.024285</td>\n",
       "      <td>0</td>\n",
       "      <td>0.636365</td>\n",
       "      <td>2.857144</td>\n",
       "    </tr>\n",
       "    <tr>\n",
       "      <th>1</th>\n",
       "      <td>NaN</td>\n",
       "      <td>NaN</td>\n",
       "      <td>C</td>\n",
       "      <td>NaN</td>\n",
       "      <td>9.191265</td>\n",
       "      <td>NaN</td>\n",
       "      <td>NaN</td>\n",
       "      <td>2.301630</td>\n",
       "      <td>NaN</td>\n",
       "      <td>1.312910</td>\n",
       "      <td>...</td>\n",
       "      <td>NaN</td>\n",
       "      <td>NaN</td>\n",
       "      <td>0.598896</td>\n",
       "      <td>AF</td>\n",
       "      <td>NaN</td>\n",
       "      <td>NaN</td>\n",
       "      <td>1.957825</td>\n",
       "      <td>0</td>\n",
       "      <td>NaN</td>\n",
       "      <td>NaN</td>\n",
       "    </tr>\n",
       "    <tr>\n",
       "      <th>2</th>\n",
       "      <td>0.943877</td>\n",
       "      <td>5.310079</td>\n",
       "      <td>C</td>\n",
       "      <td>4.410969</td>\n",
       "      <td>5.326159</td>\n",
       "      <td>3.979592</td>\n",
       "      <td>3.928571</td>\n",
       "      <td>0.019645</td>\n",
       "      <td>12.666667</td>\n",
       "      <td>0.765864</td>\n",
       "      <td>...</td>\n",
       "      <td>9.333333</td>\n",
       "      <td>2.477596</td>\n",
       "      <td>0.013452</td>\n",
       "      <td>AE</td>\n",
       "      <td>1.773709</td>\n",
       "      <td>3.922193</td>\n",
       "      <td>1.120468</td>\n",
       "      <td>2</td>\n",
       "      <td>0.883118</td>\n",
       "      <td>1.176472</td>\n",
       "    </tr>\n",
       "    <tr>\n",
       "      <th>3</th>\n",
       "      <td>0.797415</td>\n",
       "      <td>8.304757</td>\n",
       "      <td>C</td>\n",
       "      <td>4.225930</td>\n",
       "      <td>11.627438</td>\n",
       "      <td>2.097700</td>\n",
       "      <td>1.987549</td>\n",
       "      <td>0.171947</td>\n",
       "      <td>8.965516</td>\n",
       "      <td>6.542669</td>\n",
       "      <td>...</td>\n",
       "      <td>7.018256</td>\n",
       "      <td>1.812795</td>\n",
       "      <td>0.002267</td>\n",
       "      <td>CJ</td>\n",
       "      <td>1.415230</td>\n",
       "      <td>2.954381</td>\n",
       "      <td>1.990847</td>\n",
       "      <td>1</td>\n",
       "      <td>1.677108</td>\n",
       "      <td>1.034483</td>\n",
       "    </tr>\n",
       "    <tr>\n",
       "      <th>4</th>\n",
       "      <td>NaN</td>\n",
       "      <td>NaN</td>\n",
       "      <td>C</td>\n",
       "      <td>NaN</td>\n",
       "      <td>NaN</td>\n",
       "      <td>NaN</td>\n",
       "      <td>NaN</td>\n",
       "      <td>NaN</td>\n",
       "      <td>NaN</td>\n",
       "      <td>1.050328</td>\n",
       "      <td>...</td>\n",
       "      <td>NaN</td>\n",
       "      <td>NaN</td>\n",
       "      <td>NaN</td>\n",
       "      <td>Z</td>\n",
       "      <td>NaN</td>\n",
       "      <td>NaN</td>\n",
       "      <td>NaN</td>\n",
       "      <td>0</td>\n",
       "      <td>NaN</td>\n",
       "      <td>NaN</td>\n",
       "    </tr>\n",
       "  </tbody>\n",
       "</table>\n",
       "<p>5 rows × 131 columns</p>\n",
       "</div>"
      ],
      "text/plain": [
       "         v1        v2 v3        v4         v5        v6        v7        v8  \\\n",
       "0  1.335739  8.727474  C  3.921026   7.915266  2.599278  3.176895  0.012941   \n",
       "1       NaN       NaN  C       NaN   9.191265       NaN       NaN  2.301630   \n",
       "2  0.943877  5.310079  C  4.410969   5.326159  3.979592  3.928571  0.019645   \n",
       "3  0.797415  8.304757  C  4.225930  11.627438  2.097700  1.987549  0.171947   \n",
       "4       NaN       NaN  C       NaN        NaN       NaN       NaN       NaN   \n",
       "\n",
       "          v9       v10    ...         v122      v123      v124  v125  \\\n",
       "0   9.999999  0.503281    ...     8.000000  1.989780  0.035754    AU   \n",
       "1        NaN  1.312910    ...          NaN       NaN  0.598896    AF   \n",
       "2  12.666667  0.765864    ...     9.333333  2.477596  0.013452    AE   \n",
       "3   8.965516  6.542669    ...     7.018256  1.812795  0.002267    CJ   \n",
       "4        NaN  1.050328    ...          NaN       NaN       NaN     Z   \n",
       "\n",
       "       v126      v127      v128  v129      v130      v131  \n",
       "0  1.804126  3.113719  2.024285     0  0.636365  2.857144  \n",
       "1       NaN       NaN  1.957825     0       NaN       NaN  \n",
       "2  1.773709  3.922193  1.120468     2  0.883118  1.176472  \n",
       "3  1.415230  2.954381  1.990847     1  1.677108  1.034483  \n",
       "4       NaN       NaN       NaN     0       NaN       NaN  \n",
       "\n",
       "[5 rows x 131 columns]"
      ]
     },
     "execution_count": 2,
     "metadata": {},
     "output_type": "execute_result"
    }
   ],
   "source": [
    "df = pd.read_csv('train.csv')\n",
    "y = df.target\n",
    "\n",
    "df.drop(['ID', 'target'], axis=1, inplace=True)\n",
    "df.head()"
   ]
  },
  {
   "cell_type": "code",
   "execution_count": 3,
   "metadata": {
    "collapsed": true
   },
   "outputs": [],
   "source": [
    "string_type = []\n",
    "for column in df.columns:\n",
    "    if type(df[column].values[0]) == str:\n",
    "        string_type.append(column)\n",
    "string_type.append('v113')\n",
    "        \n",
    "df[string_type] = df[string_type].fillna('zero')\n",
    "\n",
    "df.fillna(-9999, inplace=True)\n",
    "cat_features_ids = np.where(df.apply(pd.Series.nunique) < 10000)[0].tolist()"
   ]
  },
  {
   "cell_type": "code",
   "execution_count": 4,
   "metadata": {},
   "outputs": [
    {
     "data": {
      "text/html": [
       "<div>\n",
       "<style scoped>\n",
       "    .dataframe tbody tr th:only-of-type {\n",
       "        vertical-align: middle;\n",
       "    }\n",
       "\n",
       "    .dataframe tbody tr th {\n",
       "        vertical-align: top;\n",
       "    }\n",
       "\n",
       "    .dataframe thead th {\n",
       "        text-align: right;\n",
       "    }\n",
       "</style>\n",
       "<table border=\"1\" class=\"dataframe\">\n",
       "  <thead>\n",
       "    <tr style=\"text-align: right;\">\n",
       "      <th></th>\n",
       "      <th>v1</th>\n",
       "      <th>v2</th>\n",
       "      <th>v3</th>\n",
       "      <th>v4</th>\n",
       "      <th>v5</th>\n",
       "      <th>v6</th>\n",
       "      <th>v7</th>\n",
       "      <th>v8</th>\n",
       "      <th>v9</th>\n",
       "      <th>v10</th>\n",
       "      <th>...</th>\n",
       "      <th>v122</th>\n",
       "      <th>v123</th>\n",
       "      <th>v124</th>\n",
       "      <th>v125</th>\n",
       "      <th>v126</th>\n",
       "      <th>v127</th>\n",
       "      <th>v128</th>\n",
       "      <th>v129</th>\n",
       "      <th>v130</th>\n",
       "      <th>v131</th>\n",
       "    </tr>\n",
       "  </thead>\n",
       "  <tbody>\n",
       "    <tr>\n",
       "      <th>0</th>\n",
       "      <td>1.335739</td>\n",
       "      <td>8.727474</td>\n",
       "      <td>C</td>\n",
       "      <td>3.921026</td>\n",
       "      <td>7.915266</td>\n",
       "      <td>2.599278</td>\n",
       "      <td>3.176895</td>\n",
       "      <td>0.012941</td>\n",
       "      <td>9.999999</td>\n",
       "      <td>0.503281</td>\n",
       "      <td>...</td>\n",
       "      <td>8.000000</td>\n",
       "      <td>1.989780</td>\n",
       "      <td>0.035754</td>\n",
       "      <td>AU</td>\n",
       "      <td>1.804126</td>\n",
       "      <td>3.113719</td>\n",
       "      <td>2.024285</td>\n",
       "      <td>0</td>\n",
       "      <td>0.636365</td>\n",
       "      <td>2.857144</td>\n",
       "    </tr>\n",
       "    <tr>\n",
       "      <th>1</th>\n",
       "      <td>-9999.000000</td>\n",
       "      <td>-9999.000000</td>\n",
       "      <td>C</td>\n",
       "      <td>-9999.000000</td>\n",
       "      <td>9.191265</td>\n",
       "      <td>-9999.000000</td>\n",
       "      <td>-9999.000000</td>\n",
       "      <td>2.301630</td>\n",
       "      <td>-9999.000000</td>\n",
       "      <td>1.312910</td>\n",
       "      <td>...</td>\n",
       "      <td>-9999.000000</td>\n",
       "      <td>-9999.000000</td>\n",
       "      <td>0.598896</td>\n",
       "      <td>AF</td>\n",
       "      <td>-9999.000000</td>\n",
       "      <td>-9999.000000</td>\n",
       "      <td>1.957825</td>\n",
       "      <td>0</td>\n",
       "      <td>-9999.000000</td>\n",
       "      <td>-9999.000000</td>\n",
       "    </tr>\n",
       "    <tr>\n",
       "      <th>2</th>\n",
       "      <td>0.943877</td>\n",
       "      <td>5.310079</td>\n",
       "      <td>C</td>\n",
       "      <td>4.410969</td>\n",
       "      <td>5.326159</td>\n",
       "      <td>3.979592</td>\n",
       "      <td>3.928571</td>\n",
       "      <td>0.019645</td>\n",
       "      <td>12.666667</td>\n",
       "      <td>0.765864</td>\n",
       "      <td>...</td>\n",
       "      <td>9.333333</td>\n",
       "      <td>2.477596</td>\n",
       "      <td>0.013452</td>\n",
       "      <td>AE</td>\n",
       "      <td>1.773709</td>\n",
       "      <td>3.922193</td>\n",
       "      <td>1.120468</td>\n",
       "      <td>2</td>\n",
       "      <td>0.883118</td>\n",
       "      <td>1.176472</td>\n",
       "    </tr>\n",
       "    <tr>\n",
       "      <th>3</th>\n",
       "      <td>0.797415</td>\n",
       "      <td>8.304757</td>\n",
       "      <td>C</td>\n",
       "      <td>4.225930</td>\n",
       "      <td>11.627438</td>\n",
       "      <td>2.097700</td>\n",
       "      <td>1.987549</td>\n",
       "      <td>0.171947</td>\n",
       "      <td>8.965516</td>\n",
       "      <td>6.542669</td>\n",
       "      <td>...</td>\n",
       "      <td>7.018256</td>\n",
       "      <td>1.812795</td>\n",
       "      <td>0.002267</td>\n",
       "      <td>CJ</td>\n",
       "      <td>1.415230</td>\n",
       "      <td>2.954381</td>\n",
       "      <td>1.990847</td>\n",
       "      <td>1</td>\n",
       "      <td>1.677108</td>\n",
       "      <td>1.034483</td>\n",
       "    </tr>\n",
       "    <tr>\n",
       "      <th>4</th>\n",
       "      <td>-9999.000000</td>\n",
       "      <td>-9999.000000</td>\n",
       "      <td>C</td>\n",
       "      <td>-9999.000000</td>\n",
       "      <td>-9999.000000</td>\n",
       "      <td>-9999.000000</td>\n",
       "      <td>-9999.000000</td>\n",
       "      <td>-9999.000000</td>\n",
       "      <td>-9999.000000</td>\n",
       "      <td>1.050328</td>\n",
       "      <td>...</td>\n",
       "      <td>-9999.000000</td>\n",
       "      <td>-9999.000000</td>\n",
       "      <td>-9999.000000</td>\n",
       "      <td>Z</td>\n",
       "      <td>-9999.000000</td>\n",
       "      <td>-9999.000000</td>\n",
       "      <td>-9999.000000</td>\n",
       "      <td>0</td>\n",
       "      <td>-9999.000000</td>\n",
       "      <td>-9999.000000</td>\n",
       "    </tr>\n",
       "  </tbody>\n",
       "</table>\n",
       "<p>5 rows × 131 columns</p>\n",
       "</div>"
      ],
      "text/plain": [
       "            v1           v2 v3           v4           v5           v6  \\\n",
       "0     1.335739     8.727474  C     3.921026     7.915266     2.599278   \n",
       "1 -9999.000000 -9999.000000  C -9999.000000     9.191265 -9999.000000   \n",
       "2     0.943877     5.310079  C     4.410969     5.326159     3.979592   \n",
       "3     0.797415     8.304757  C     4.225930    11.627438     2.097700   \n",
       "4 -9999.000000 -9999.000000  C -9999.000000 -9999.000000 -9999.000000   \n",
       "\n",
       "            v7           v8           v9       v10     ...              v122  \\\n",
       "0     3.176895     0.012941     9.999999  0.503281     ...          8.000000   \n",
       "1 -9999.000000     2.301630 -9999.000000  1.312910     ...      -9999.000000   \n",
       "2     3.928571     0.019645    12.666667  0.765864     ...          9.333333   \n",
       "3     1.987549     0.171947     8.965516  6.542669     ...          7.018256   \n",
       "4 -9999.000000 -9999.000000 -9999.000000  1.050328     ...      -9999.000000   \n",
       "\n",
       "          v123         v124  v125         v126         v127         v128  \\\n",
       "0     1.989780     0.035754    AU     1.804126     3.113719     2.024285   \n",
       "1 -9999.000000     0.598896    AF -9999.000000 -9999.000000     1.957825   \n",
       "2     2.477596     0.013452    AE     1.773709     3.922193     1.120468   \n",
       "3     1.812795     0.002267    CJ     1.415230     2.954381     1.990847   \n",
       "4 -9999.000000 -9999.000000     Z -9999.000000 -9999.000000 -9999.000000   \n",
       "\n",
       "   v129         v130         v131  \n",
       "0     0     0.636365     2.857144  \n",
       "1     0 -9999.000000 -9999.000000  \n",
       "2     2     0.883118     1.176472  \n",
       "3     1     1.677108     1.034483  \n",
       "4     0 -9999.000000 -9999.000000  \n",
       "\n",
       "[5 rows x 131 columns]"
      ]
     },
     "execution_count": 4,
     "metadata": {},
     "output_type": "execute_result"
    }
   ],
   "source": [
    "df.head()"
   ]
  },
  {
   "cell_type": "code",
   "execution_count": 5,
   "metadata": {
    "collapsed": true
   },
   "outputs": [],
   "source": [
    "le = preprocessing.LabelEncoder()\n",
    "for column in string_type:\n",
    "    df[column] = le.fit_transform(df[column])"
   ]
  },
  {
   "cell_type": "code",
   "execution_count": 6,
   "metadata": {
    "collapsed": true
   },
   "outputs": [],
   "source": [
    "train, test, y_train, y_test = train_test_split(df, y, test_size = 0.2)"
   ]
  },
  {
   "cell_type": "code",
   "execution_count": 7,
   "metadata": {},
   "outputs": [
    {
     "name": "stdout",
     "output_type": "stream",
     "text": [
      "Accuracy score baseline: 0.7616881696916685\n"
     ]
    }
   ],
   "source": [
    "lr = LogisticRegression()\n",
    "lr.fit(train, y_train)\n",
    "y_pred = lr.predict(test)\n",
    "print('Accuracy score baseline:', accuracy_score(y_test, y_pred))"
   ]
  },
  {
   "cell_type": "code",
   "execution_count": 8,
   "metadata": {
    "collapsed": true
   },
   "outputs": [],
   "source": [
    "folds = pd.DataFrame(list(range(len(train))))\n",
    "folds[0] = folds.values % 3\n",
    "folds.rename(columns={0:'fold'},inplace=True)"
   ]
  },
  {
   "cell_type": "markdown",
   "metadata": {},
   "source": [
    "## Catboost"
   ]
  },
  {
   "cell_type": "code",
   "execution_count": 9,
   "metadata": {
    "collapsed": true
   },
   "outputs": [],
   "source": [
    "dict_OOF_predict_cbst = {}\n",
    "dict_test_predict_cbst = {}\n",
    "for fold in [0,1,2]:\n",
    "\n",
    "    \n",
    "    clf = CatBoostClassifier(learning_rate=0.1, iterations=500, random_seed=42, logging_level='Silent')\n",
    "    clf.fit(train.values[folds.fold != fold], y_train.values[folds.fold != fold], cat_features=cat_features_ids)\n",
    "    \n",
    "    predicts = clf.predict_proba(test)[:,1]\n",
    "    dict_test_predict_cbst[fold] = predicts\n",
    "\n",
    "    predicts_OOF = clf.predict_proba(train.values[folds.fold == fold])[:,1]\n",
    "    dict_OOF_predict_cbst[fold] = predicts_OOF\n",
    "    del clf\n",
    "    \n"
   ]
  },
  {
   "cell_type": "code",
   "execution_count": 20,
   "metadata": {
    "collapsed": true
   },
   "outputs": [],
   "source": [
    "    clf = CatBoostClassifier(learning_rate=0.1, iterations=500, random_seed=42, logging_level='Silent')\n",
    "    clf.fit()"
   ]
  },
  {
   "cell_type": "code",
   "execution_count": 10,
   "metadata": {},
   "outputs": [
    {
     "name": "stdout",
     "output_type": "stream",
     "text": [
      "OOF Catboost accuracy 0.7817748425472358\n"
     ]
    }
   ],
   "source": [
    "OOF_X_cbst = np.zeros_like(y_train)\n",
    "OOF_X_cbst = pd.DataFrame(OOF_X_cbst)\n",
    "for fold in dict_OOF_predict_cbst.keys():\n",
    "    OOF_X_cbst[folds.fold == fold] = dict_OOF_predict_cbst[fold].reshape((dict_OOF_predict_cbst[fold].shape[0],1))\n",
    "print('OOF Catboost accuracy',accuracy_score(y_train,np.round(OOF_X_cbst)))"
   ]
  },
  {
   "cell_type": "code",
   "execution_count": 11,
   "metadata": {},
   "outputs": [
    {
     "name": "stdout",
     "output_type": "stream",
     "text": [
      "test Catboost accuracy 0.7865296304395364\n"
     ]
    }
   ],
   "source": [
    "f_0,f_1,f_2 = dict_test_predict_cbst.keys()\n",
    "sub_cbst = dict_test_predict_cbst[f_0] + dict_test_predict_cbst[f_1] + dict_test_predict_cbst[f_2]\n",
    "sub_cbst/=3\n",
    "print('test Catboost accuracy',accuracy_score(y_test,np.round(sub_cbst)))"
   ]
  },
  {
   "cell_type": "markdown",
   "metadata": {},
   "source": [
    "## KNN 2"
   ]
  },
  {
   "cell_type": "code",
   "execution_count": 12,
   "metadata": {},
   "outputs": [
    {
     "name": "stdout",
     "output_type": "stream",
     "text": [
      "OOF kNN 2 accuracy 0.6638820853743876\n",
      "test kNN 2 accuracy 0.7161163350098404\n"
     ]
    }
   ],
   "source": [
    "\n",
    "dict_OOF_predict_knn_2 = {}\n",
    "dict_test_predict_knn_2  = {}\n",
    "for fold in [0,1,2]:\n",
    "\n",
    "    \n",
    "    clf = KNeighborsClassifier(n_neighbors = 2,weights='distance',n_jobs=32)\n",
    "    clf.fit(train.values[folds.fold != fold], y_train.values[folds.fold != fold])\n",
    "    \n",
    "    predicts = clf.predict_proba(test)[:,1]\n",
    "    dict_test_predict_knn_2[fold] = predicts\n",
    "\n",
    "    predicts_OOF = clf.predict_proba(train.values[folds.fold == fold])[:,1]\n",
    "    dict_OOF_predict_knn_2[fold] = predicts_OOF\n",
    "    del clf\n",
    "    \n",
    "OOF_X_knn_2 = np.zeros_like(y_train)\n",
    "OOF_X_knn_2 = pd.DataFrame(OOF_X_knn_2)\n",
    "for fold in dict_OOF_predict_knn_2.keys():\n",
    "    OOF_X_knn_2[folds.fold == fold] = dict_OOF_predict_knn_2[fold].reshape((dict_OOF_predict_knn_2[fold].shape[0],1))\n",
    "print('OOF kNN 2 accuracy',accuracy_score(y_train,np.round(OOF_X_knn_2)))\n",
    "\n",
    "f_0,f_1,f_2 = dict_test_predict_knn_2.keys()\n",
    "sub_knn_2 = dict_test_predict_knn_2[f_0] + dict_test_predict_knn_2[f_1] + dict_test_predict_knn_2[f_2]\n",
    "sub_knn_2/=3\n",
    "print('test kNN 2 accuracy',accuracy_score(y_test,np.round(sub_knn_2)))"
   ]
  },
  {
   "cell_type": "markdown",
   "metadata": {},
   "source": [
    "## KNN 4"
   ]
  },
  {
   "cell_type": "code",
   "execution_count": 13,
   "metadata": {},
   "outputs": [
    {
     "name": "stdout",
     "output_type": "stream",
     "text": [
      "OOF kNN 4 accuracy 0.7044808432470259\n",
      "test kNN 4 accuracy 0.7345287557402143\n"
     ]
    }
   ],
   "source": [
    "\n",
    "dict_OOF_predict_knn_4 = {}\n",
    "dict_test_predict_knn_4  = {}\n",
    "for fold in [0,1,2]:\n",
    "\n",
    "    \n",
    "    clf = KNeighborsClassifier(n_neighbors= 4,weights='distance',n_jobs=32)\n",
    "    clf.fit(train.values[folds.fold != fold], y_train.values[folds.fold != fold])\n",
    "    \n",
    "    predicts = clf.predict_proba(test)[:,1]\n",
    "    dict_test_predict_knn_4[fold] = predicts\n",
    "\n",
    "    predicts_OOF = clf.predict_proba(train.values[folds.fold == fold])[:,1]\n",
    "    dict_OOF_predict_knn_4[fold] = predicts_OOF\n",
    "    del clf\n",
    "    \n",
    "OOF_X_knn_4 = np.zeros_like(y_train)\n",
    "OOF_X_knn_4 = pd.DataFrame(OOF_X_knn_4)\n",
    "for fold in dict_OOF_predict_knn_4.keys():\n",
    "    OOF_X_knn_4[folds.fold == fold] = dict_OOF_predict_knn_4[fold].reshape((dict_OOF_predict_knn_4[fold].shape[0],1))\n",
    "print('OOF kNN 4 accuracy',accuracy_score(y_train,np.round(OOF_X_knn_4)))\n",
    "\n",
    "f_0,f_1,f_2 = dict_test_predict_knn_4.keys()\n",
    "sub_knn_4 = dict_test_predict_knn_4[f_0] + dict_test_predict_knn_4[f_1] + dict_test_predict_knn_4[f_2]\n",
    "sub_knn_4/=3\n",
    "print('test kNN 4 accuracy',accuracy_score(y_test,np.round(sub_knn_4)))"
   ]
  },
  {
   "cell_type": "markdown",
   "metadata": {},
   "source": [
    "## KNN 8"
   ]
  },
  {
   "cell_type": "code",
   "execution_count": 14,
   "metadata": {},
   "outputs": [
    {
     "name": "stdout",
     "output_type": "stream",
     "text": [
      "OOF kNN 8 accuracy 0.7372397655703289\n",
      "test kNN 8 accuracy 0.7567461185217581\n"
     ]
    }
   ],
   "source": [
    "\n",
    "dict_OOF_predict_knn_8 = {}\n",
    "dict_test_predict_knn_8  = {}\n",
    "for fold in [0,1,2]:\n",
    "\n",
    "    \n",
    "    clf = KNeighborsClassifier(n_neighbors = 8,weights='distance',n_jobs=32)\n",
    "    clf.fit(train.values[folds.fold != fold], y_train.values[folds.fold != fold])\n",
    "    \n",
    "    predicts = clf.predict_proba(test)[:,1]\n",
    "    dict_test_predict_knn_8[fold] = predicts\n",
    "\n",
    "    predicts_OOF = clf.predict_proba(train.values[folds.fold == fold])[:,1]\n",
    "    dict_OOF_predict_knn_8[fold] = predicts_OOF\n",
    "    del clf\n",
    "    \n",
    "OOF_X_knn_8 = np.zeros_like(y_train)\n",
    "OOF_X_knn_8 = pd.DataFrame(OOF_X_knn_8)\n",
    "for fold in dict_OOF_predict_knn_8.keys():\n",
    "    OOF_X_knn_8[folds.fold == fold] = dict_OOF_predict_knn_8[fold].reshape((dict_OOF_predict_knn_8[fold].shape[0],1))\n",
    "print('OOF kNN 8 accuracy',accuracy_score(y_train,np.round(OOF_X_knn_8)))\n",
    "\n",
    "f_0,f_1,f_2 = dict_test_predict_knn_8.keys()\n",
    "sub_knn_8 = dict_test_predict_knn_8[f_0] + dict_test_predict_knn_8[f_1] + dict_test_predict_knn_8[f_2]\n",
    "sub_knn_8/=3\n",
    "print('test kNN 8 accuracy',accuracy_score(y_test,np.round(sub_knn_8)))"
   ]
  },
  {
   "cell_type": "markdown",
   "metadata": {},
   "source": [
    "## KNN 16"
   ]
  },
  {
   "cell_type": "code",
   "execution_count": 15,
   "metadata": {},
   "outputs": [
    {
     "name": "stdout",
     "output_type": "stream",
     "text": [
      "OOF kNN 16 accuracy 0.75659333449965\n",
      "test kNN 16 accuracy 0.7642685326918872\n"
     ]
    }
   ],
   "source": [
    "\n",
    "dict_OOF_predict_knn_16 = {}\n",
    "dict_test_predict_knn_16  = {}\n",
    "for fold in [0,1,2]:\n",
    "\n",
    "    \n",
    "    clf = KNeighborsClassifier(n_neighbors = 16,weights='distance',n_jobs=32)\n",
    "    clf.fit(train.values[folds.fold != fold], y_train.values[folds.fold != fold])\n",
    "    \n",
    "    predicts = clf.predict_proba(test)[:,1]\n",
    "    dict_test_predict_knn_16[fold] = predicts\n",
    "\n",
    "    predicts_OOF = clf.predict_proba(train.values[folds.fold == fold])[:,1]\n",
    "    dict_OOF_predict_knn_16[fold] = predicts_OOF\n",
    "    del clf\n",
    "    \n",
    "OOF_X_knn_16 = np.zeros_like(y_train)\n",
    "OOF_X_knn_16 = pd.DataFrame(OOF_X_knn_16)\n",
    "for fold in dict_OOF_predict_knn_16.keys():\n",
    "    OOF_X_knn_16[folds.fold == fold] = dict_OOF_predict_knn_16[fold].reshape((dict_OOF_predict_knn_16[fold].shape[0],1))\n",
    "print('OOF kNN 16 accuracy',accuracy_score(y_train,np.round(OOF_X_knn_16)))\n",
    "\n",
    "\n",
    "f_0,f_1,f_2 = dict_test_predict_knn_16.keys()\n",
    "sub_knn_16 = dict_test_predict_knn_16[f_0] + dict_test_predict_knn_16[f_1] + dict_test_predict_knn_16[f_2]\n",
    "sub_knn_16/=3\n",
    "print('test kNN 16 accuracy',accuracy_score(y_test,np.round(sub_knn_16)))"
   ]
  },
  {
   "cell_type": "markdown",
   "metadata": {},
   "source": [
    "## Stacking"
   ]
  },
  {
   "cell_type": "code",
   "execution_count": 16,
   "metadata": {
    "collapsed": true
   },
   "outputs": [],
   "source": [
    "stacked_data_set_train = pd.DataFrame(OOF_X_cbst)\n",
    "stacked_data_set_test = pd.DataFrame(sub_cbst)\n",
    "\n",
    "stacked_data_set_train[1] = OOF_X_knn_2\n",
    "stacked_data_set_test[1] = sub_knn_2\n",
    "\n",
    "stacked_data_set_train[2] = OOF_X_knn_4\n",
    "stacked_data_set_test[2] = sub_knn_4 \n",
    "\n",
    "stacked_data_set_train[3] = OOF_X_knn_8\n",
    "stacked_data_set_test[3] = sub_knn_8\n",
    "\n",
    "stacked_data_set_train[4] = OOF_X_knn_16\n",
    "stacked_data_set_test[4] = sub_knn_16 \n"
   ]
  },
  {
   "cell_type": "code",
   "execution_count": 17,
   "metadata": {},
   "outputs": [
    {
     "name": "stdout",
     "output_type": "stream",
     "text": [
      "Accuracy score baseline: 0.787797944456593\n"
     ]
    }
   ],
   "source": [
    "lr = LogisticRegression()\n",
    "lr.fit(stacked_data_set_train, y_train)\n",
    "y_pred = lr.predict(stacked_data_set_test)\n",
    "print('Accuracy score baseline:', accuracy_score(y_test, y_pred))"
   ]
  },
  {
   "cell_type": "code",
   "execution_count": 18,
   "metadata": {},
   "outputs": [
    {
     "name": "stdout",
     "output_type": "stream",
     "text": [
      "overall improvement with stacking is 0.16 %\n"
     ]
    }
   ],
   "source": [
    "original_score = 0.7865296304395364\n",
    "best_score = 0.787797944456593\n",
    "improvement = np.abs(np.round(100*(original_score - best_score)/original_score,2))\n",
    "print('overall improvement with stacking is {} %'.format(improvement))"
   ]
  },
  {
   "cell_type": "code",
   "execution_count": 19,
   "metadata": {},
   "outputs": [
    {
     "name": "stdout",
     "output_type": "stream",
     "text": [
      "additional value is 182.9136 samples\n"
     ]
    }
   ],
   "source": [
    "print('additional value is {} samples'.format(df.shape[0] * 0.16 / 100))"
   ]
  }
 ],
 "metadata": {
  "kernelspec": {
   "display_name": "Python 3",
   "language": "python",
   "name": "python3"
  },
  "language_info": {
   "codemirror_mode": {
    "name": "ipython",
    "version": 3
   },
   "file_extension": ".py",
   "mimetype": "text/x-python",
   "name": "python",
   "nbconvert_exporter": "python",
   "pygments_lexer": "ipython3",
   "version": "3.6.1"
  }
 },
 "nbformat": 4,
 "nbformat_minor": 2
}
