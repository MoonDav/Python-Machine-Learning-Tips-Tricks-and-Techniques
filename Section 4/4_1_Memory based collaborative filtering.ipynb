{
 "cells": [
  {
   "cell_type": "code",
   "execution_count": 1,
   "metadata": {
    "collapsed": true
   },
   "outputs": [],
   "source": [
    "import pandas as pd\n",
    "import numpy as np\n",
    "import scipy\n",
    "import json\n",
    "import os\n",
    "\n",
    "from tqdm import tqdm_notebook\n",
    "from sklearn.model_selection import train_test_split\n",
    "from sklearn.metrics.pairwise import pairwise_distances"
   ]
  },
  {
   "cell_type": "code",
   "execution_count": 2,
   "metadata": {
    "collapsed": true
   },
   "outputs": [],
   "source": [
    "def load_df(): #loading dataframe\n",
    "    df = pd.DataFrame()\n",
    "    with open('./mpd.slice.0-999.json') as data_file:\n",
    "        data_string = data_file.read()\n",
    "        try:\n",
    "            data = json.loads(data_string)\n",
    "        except ValueError:\n",
    "            print('Failed:')\n",
    "            print(repr(data_string))\n",
    "    df = pd.concat([df, pd.DataFrame(data['playlists'])], ignore_index=True)\n",
    "    return df"
   ]
  },
  {
   "cell_type": "code",
   "execution_count": 3,
   "metadata": {},
   "outputs": [
    {
     "data": {
      "application/vnd.jupyter.widget-view+json": {
       "model_id": "143c4d7efa9445b99273421fef710c52"
      }
     },
     "metadata": {},
     "output_type": "display_data"
    },
    {
     "name": "stdout",
     "output_type": "stream",
     "text": [
      "\n"
     ]
    }
   ],
   "source": [
    "df = load_df()\n",
    "df.drop(['description','name', 'pid', 'num_albums','num_artists', \n",
    "         'num_edits', 'num_followers', 'num_tracks', 'collaborative'], axis = 1, inplace = True) #dropping columns \n",
    "                                                                                                 #that we are not going\n",
    "                                                                                                 #to use\n",
    "\n",
    "artist_list = []\n",
    "vocab_artist = set()\n",
    "\n",
    "for row in tqdm_notebook(df.iterrows()): #iterating through df to get sequence of artists name \n",
    "                                         #that are contained in playlist\n",
    "    artists = [x['artist_name'] for x in row[1]['tracks']] #getting artists from playlist(json type)\n",
    "    for x in row[1]['tracks']:\n",
    "        vocab_artist.add(x['artist_name']) #creating set with unique artists name\n",
    "    artist_list.append(artists) \n",
    "\n",
    "df['artist_list'] = artist_list \n",
    "\n",
    "w2x_artist = {artist:i for i, artist in enumerate(vocab_artist)} #artist name to index\n",
    "x2w_artist = {i:artist for i, artist in enumerate(vocab_artist)} #index to artist name\n",
    "\n",
    "df['artist_idx'] = df['artist_list'].apply(lambda x: [w2x_artist[a] for a in x]) #converting sequence of artist name \n",
    "                                                                                 #to sequence of artists idx\n",
    "\n",
    "\n",
    "df['train_seq_artist'] = df['artist_idx'].apply(lambda x: x[:-3]) #creating train sequence\n",
    "df['target_val_artist'] = df['artist_idx'].apply(lambda x: x[-3:]) #creating validation sequence"
   ]
  },
  {
   "cell_type": "code",
   "execution_count": 4,
   "metadata": {},
   "outputs": [
    {
     "data": {
      "application/vnd.jupyter.widget-view+json": {
       "model_id": "5312415c36e94a17aa363a0e0ace3b57"
      }
     },
     "metadata": {},
     "output_type": "display_data"
    },
    {
     "name": "stdout",
     "output_type": "stream",
     "text": [
      "\n"
     ]
    }
   ],
   "source": [
    "inds = df['train_seq_artist']\n",
    "playlist_artist = scipy.sparse.lil_matrix((df.shape[0], len(vocab_artist)), dtype=np.int8) #binary sparse artist-\n",
    "                                                                                           #-playlist matrix\n",
    "for i, row in tqdm_notebook(enumerate(inds)):\n",
    "    playlist_artist[i, row] = 1 "
   ]
  },
  {
   "cell_type": "code",
   "execution_count": 5,
   "metadata": {},
   "outputs": [
    {
     "name": "stdout",
     "output_type": "stream",
     "text": [
      "Hit rate using most popular benchmark: 0.037\n",
      "Precision using most popular benchmark: 0.013\n"
     ]
    }
   ],
   "source": [
    "precision = []\n",
    "hr = []\n",
    "sum_artists = np.asarray(np.sum(playlist_artist, axis = 0)).reshape((9722, ))\n",
    "preds = np.argsort(sum_artists)[-3:]\n",
    "y_true = df['target_val_artist']\n",
    "for y in y_true:\n",
    "    score = len(set(preds) & set(y))\n",
    "    precision.append(score/3)\n",
    "    hr.append(int(score > 0))\n",
    "print('Hit rate using most popular benchmark:', np.mean(hr))\n",
    "print('Precision using most popular benchmark:', np.mean(precision))"
   ]
  },
  {
   "cell_type": "code",
   "execution_count": 6,
   "metadata": {},
   "outputs": [
    {
     "data": {
      "application/vnd.jupyter.widget-view+json": {
       "model_id": "6f57dad00099406ab8ca4d1cc45ac0b9"
      }
     },
     "metadata": {},
     "output_type": "display_data"
    },
    {
     "name": "stdout",
     "output_type": "stream",
     "text": [
      "\n",
      "Hit rate using most popular benchmark: 0.013\n",
      "Precision using most popular benchmark: 0.004333333333333333\n"
     ]
    }
   ],
   "source": [
    "precision = []\n",
    "hr = []\n",
    "playlist_distances = pairwise_distances(playlist_artist, metric='cosine', n_jobs = 32)\n",
    "i = 0\n",
    "for row, y in tqdm_notebook(zip(playlist_artist, y_true)):\n",
    "    distances = playlist_distances[i, :]\n",
    "    most_similar = np.argsort(distances)[-3:].tolist()\n",
    "    preds = []\n",
    "\n",
    "    if i in most_similar:\n",
    "        most_similar.remove(i)\n",
    "    \n",
    "    for user in most_similar:\n",
    "        pred = df.loc[user, 'train_seq_artist']\n",
    "        preds += pred\n",
    "    \n",
    "    preds = np.asarray(np.unique(preds))\n",
    "    preds_ind = np.argsort(sum_artists[preds])[-3:]\n",
    "    y_pred = preds[preds_ind]\n",
    "    score = len(set(y_pred) & set(y))\n",
    "    precision.append(score/3)\n",
    "    hr.append(int(score > 0))\n",
    "    i+=1\n",
    "print('Hit rate using most popular benchmark:', np.mean(hr))\n",
    "print('Precision using most popular benchmark:', np.mean(precision))"
   ]
  }
 ],
 "metadata": {
  "kernelspec": {
   "display_name": "Python 3",
   "language": "python",
   "name": "python3"
  },
  "language_info": {
   "codemirror_mode": {
    "name": "ipython",
    "version": 3
   },
   "file_extension": ".py",
   "mimetype": "text/x-python",
   "name": "python",
   "nbconvert_exporter": "python",
   "pygments_lexer": "ipython3",
   "version": "3.6.1"
  }
 },
 "nbformat": 4,
 "nbformat_minor": 2
}
