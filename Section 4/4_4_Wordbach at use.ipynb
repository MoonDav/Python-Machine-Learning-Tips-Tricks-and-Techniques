{
 "cells": [
  {
   "cell_type": "code",
   "execution_count": 1,
   "metadata": {
    "collapsed": true
   },
   "outputs": [],
   "source": [
    "from sklearn.feature_extraction.text import TfidfVectorizer\n",
    "from sklearn.model_selection import train_test_split\n",
    "from scipy.sparse import csr_matrix, hstack\n",
    "from wordbatch.models import FTRL, FM_FTRL\n",
    "from nltk.corpus import stopwords\n",
    "\n",
    "import re\n",
    "import wordbatch\n",
    "import pandas as pd\n",
    "import numpy as np\n"
   ]
  },
  {
   "cell_type": "code",
   "execution_count": 2,
   "metadata": {
    "collapsed": true
   },
   "outputs": [],
   "source": [
    "def rmsle(y, y0): #defining metric\n",
    "    assert len(y) == len(y0)\n",
    "    return np.sqrt(np.mean(np.power(np.log1p(y) - np.log1p(y0), 2))) "
   ]
  },
  {
   "cell_type": "code",
   "execution_count": 3,
   "metadata": {
    "collapsed": true
   },
   "outputs": [],
   "source": [
    "stopwords = {x: 1 for x in stopwords.words('english')}\n",
    "non_alphanums = re.compile(u'[^A-Za-z0-9]+') #using only numbers + english alphabet\n",
    "\n",
    "\n",
    "def normalize_text(text):\n",
    "    return u\" \".join(\n",
    "        [x for x in [y for y in non_alphanums.sub(' ', text).lower().strip().split(\" \")] \\\n",
    "         if len(x) > 1 and x not in stopwords]) #removing stop words and using only numbers + english alphabet"
   ]
  },
  {
   "cell_type": "code",
   "execution_count": 4,
   "metadata": {
    "collapsed": true
   },
   "outputs": [],
   "source": [
    "def handle_missing_inplace(df): #filling all nans\n",
    "    df['category_name'].fillna(value='missing/missing/missing', inplace=True)\n",
    "    df['brand_name'].fillna(value='missing', inplace=True)\n",
    "    df['item_description'].fillna(value='missing', inplace=True)\n",
    "    return df"
   ]
  },
  {
   "cell_type": "code",
   "execution_count": 5,
   "metadata": {},
   "outputs": [
    {
     "data": {
      "text/html": [
       "<div>\n",
       "<style>\n",
       "    .dataframe thead tr:only-child th {\n",
       "        text-align: right;\n",
       "    }\n",
       "\n",
       "    .dataframe thead th {\n",
       "        text-align: left;\n",
       "    }\n",
       "\n",
       "    .dataframe tbody tr th {\n",
       "        vertical-align: top;\n",
       "    }\n",
       "</style>\n",
       "<table border=\"1\" class=\"dataframe\">\n",
       "  <thead>\n",
       "    <tr style=\"text-align: right;\">\n",
       "      <th></th>\n",
       "      <th>train_id</th>\n",
       "      <th>name</th>\n",
       "      <th>item_condition_id</th>\n",
       "      <th>category_name</th>\n",
       "      <th>brand_name</th>\n",
       "      <th>price</th>\n",
       "      <th>shipping</th>\n",
       "      <th>item_description</th>\n",
       "    </tr>\n",
       "  </thead>\n",
       "  <tbody>\n",
       "    <tr>\n",
       "      <th>0</th>\n",
       "      <td>0</td>\n",
       "      <td>MLB Cincinnati Reds T Shirt Size XL</td>\n",
       "      <td>3</td>\n",
       "      <td>Men/Tops/T-shirts</td>\n",
       "      <td>NaN</td>\n",
       "      <td>10.0</td>\n",
       "      <td>1</td>\n",
       "      <td>No description yet</td>\n",
       "    </tr>\n",
       "    <tr>\n",
       "      <th>1</th>\n",
       "      <td>1</td>\n",
       "      <td>Razer BlackWidow Chroma Keyboard</td>\n",
       "      <td>3</td>\n",
       "      <td>Electronics/Computers &amp; Tablets/Components &amp; P...</td>\n",
       "      <td>Razer</td>\n",
       "      <td>52.0</td>\n",
       "      <td>0</td>\n",
       "      <td>This keyboard is in great condition and works ...</td>\n",
       "    </tr>\n",
       "    <tr>\n",
       "      <th>2</th>\n",
       "      <td>2</td>\n",
       "      <td>AVA-VIV Blouse</td>\n",
       "      <td>1</td>\n",
       "      <td>Women/Tops &amp; Blouses/Blouse</td>\n",
       "      <td>Target</td>\n",
       "      <td>10.0</td>\n",
       "      <td>1</td>\n",
       "      <td>Adorable top with a hint of lace and a key hol...</td>\n",
       "    </tr>\n",
       "    <tr>\n",
       "      <th>3</th>\n",
       "      <td>3</td>\n",
       "      <td>Leather Horse Statues</td>\n",
       "      <td>1</td>\n",
       "      <td>Home/Home Décor/Home Décor Accents</td>\n",
       "      <td>NaN</td>\n",
       "      <td>35.0</td>\n",
       "      <td>1</td>\n",
       "      <td>New with tags. Leather horses. Retail for [rm]...</td>\n",
       "    </tr>\n",
       "    <tr>\n",
       "      <th>4</th>\n",
       "      <td>4</td>\n",
       "      <td>24K GOLD plated rose</td>\n",
       "      <td>1</td>\n",
       "      <td>Women/Jewelry/Necklaces</td>\n",
       "      <td>NaN</td>\n",
       "      <td>44.0</td>\n",
       "      <td>0</td>\n",
       "      <td>Complete with certificate of authenticity</td>\n",
       "    </tr>\n",
       "  </tbody>\n",
       "</table>\n",
       "</div>"
      ],
      "text/plain": [
       "   train_id                                 name  item_condition_id  \\\n",
       "0         0  MLB Cincinnati Reds T Shirt Size XL                  3   \n",
       "1         1     Razer BlackWidow Chroma Keyboard                  3   \n",
       "2         2                       AVA-VIV Blouse                  1   \n",
       "3         3                Leather Horse Statues                  1   \n",
       "4         4                 24K GOLD plated rose                  1   \n",
       "\n",
       "                                       category_name brand_name  price  \\\n",
       "0                                  Men/Tops/T-shirts        NaN   10.0   \n",
       "1  Electronics/Computers & Tablets/Components & P...      Razer   52.0   \n",
       "2                        Women/Tops & Blouses/Blouse     Target   10.0   \n",
       "3                 Home/Home Décor/Home Décor Accents        NaN   35.0   \n",
       "4                            Women/Jewelry/Necklaces        NaN   44.0   \n",
       "\n",
       "   shipping                                   item_description  \n",
       "0         1                                 No description yet  \n",
       "1         0  This keyboard is in great condition and works ...  \n",
       "2         1  Adorable top with a hint of lace and a key hol...  \n",
       "3         1  New with tags. Leather horses. Retail for [rm]...  \n",
       "4         0          Complete with certificate of authenticity  "
      ]
     },
     "execution_count": 5,
     "metadata": {},
     "output_type": "execute_result"
    }
   ],
   "source": [
    "train = pd.read_csv('./train.tsv', sep = '\\t') #loading train\n",
    "train.head()"
   ]
  },
  {
   "cell_type": "code",
   "execution_count": 13,
   "metadata": {
    "collapsed": true
   },
   "outputs": [],
   "source": [
    "sample = train.sample(frac = 0.05, random_state = 42)#using 5% sample\n",
    "sample = handle_missing_inplace(sample) #filling all nans\n",
    "y = sample.pop('price')\n",
    "\n",
    "#splitting categories into 3 sub categories\n",
    "sample['cat1'] = sample['category_name'].apply(lambda x: x.split('/')[0])\n",
    "sample['cat2'] = sample['category_name'].apply(lambda x: x.split('/')[1])\n",
    "sample['cat3'] = sample['category_name'].apply(lambda x: x.split('/')[2])"
   ]
  },
  {
   "cell_type": "code",
   "execution_count": 16,
   "metadata": {},
   "outputs": [
    {
     "data": {
      "text/html": [
       "<div>\n",
       "<style>\n",
       "    .dataframe thead tr:only-child th {\n",
       "        text-align: right;\n",
       "    }\n",
       "\n",
       "    .dataframe thead th {\n",
       "        text-align: left;\n",
       "    }\n",
       "\n",
       "    .dataframe tbody tr th {\n",
       "        vertical-align: top;\n",
       "    }\n",
       "</style>\n",
       "<table border=\"1\" class=\"dataframe\">\n",
       "  <thead>\n",
       "    <tr style=\"text-align: right;\">\n",
       "      <th></th>\n",
       "      <th>train_id</th>\n",
       "      <th>name</th>\n",
       "      <th>item_condition_id</th>\n",
       "      <th>category_name</th>\n",
       "      <th>brand_name</th>\n",
       "      <th>shipping</th>\n",
       "      <th>item_description</th>\n",
       "      <th>cat1</th>\n",
       "      <th>cat2</th>\n",
       "      <th>cat3</th>\n",
       "    </tr>\n",
       "  </thead>\n",
       "  <tbody>\n",
       "    <tr>\n",
       "      <th>525834</th>\n",
       "      <td>525834</td>\n",
       "      <td>Under armor sweatpants</td>\n",
       "      <td>4</td>\n",
       "      <td>Women/Athletic Apparel/Pants, Tights, Leggings</td>\n",
       "      <td>Under Armour</td>\n",
       "      <td>1</td>\n",
       "      <td>Used condition size small black in color two p...</td>\n",
       "      <td>Women</td>\n",
       "      <td>Athletic Apparel</td>\n",
       "      <td>Pants, Tights, Leggings</td>\n",
       "    </tr>\n",
       "    <tr>\n",
       "      <th>149839</th>\n",
       "      <td>149839</td>\n",
       "      <td>Men's watch</td>\n",
       "      <td>3</td>\n",
       "      <td>Men/Men's Accessories/Watches</td>\n",
       "      <td>Tommy Bahama</td>\n",
       "      <td>0</td>\n",
       "      <td>Tommy Bahama watch in good condition with new ...</td>\n",
       "      <td>Men</td>\n",
       "      <td>Men's Accessories</td>\n",
       "      <td>Watches</td>\n",
       "    </tr>\n",
       "    <tr>\n",
       "      <th>536234</th>\n",
       "      <td>536234</td>\n",
       "      <td>Eileen Fisher gray Cardigan</td>\n",
       "      <td>3</td>\n",
       "      <td>Women/Sweaters/Cardigan</td>\n",
       "      <td>Eileen Fisher</td>\n",
       "      <td>0</td>\n",
       "      <td>Large but fits medium or small</td>\n",
       "      <td>Women</td>\n",
       "      <td>Sweaters</td>\n",
       "      <td>Cardigan</td>\n",
       "    </tr>\n",
       "    <tr>\n",
       "      <th>427908</th>\n",
       "      <td>427908</td>\n",
       "      <td>Blue Patagonia</td>\n",
       "      <td>2</td>\n",
       "      <td>Men/Sweats &amp; Hoodies/Sweatshirt, Pullover</td>\n",
       "      <td>Patagonia, Inc.</td>\n",
       "      <td>0</td>\n",
       "      <td>No description yet</td>\n",
       "      <td>Men</td>\n",
       "      <td>Sweats &amp; Hoodies</td>\n",
       "      <td>Sweatshirt, Pullover</td>\n",
       "    </tr>\n",
       "    <tr>\n",
       "      <th>193641</th>\n",
       "      <td>193641</td>\n",
       "      <td>✨4 YMED NIKE PRO for Lindsay✨</td>\n",
       "      <td>1</td>\n",
       "      <td>Kids/Girls (4+)/Other</td>\n",
       "      <td>Nike</td>\n",
       "      <td>0</td>\n",
       "      <td>4 YMED NIKE PRO compression shorts All NWT</td>\n",
       "      <td>Kids</td>\n",
       "      <td>Girls (4+)</td>\n",
       "      <td>Other</td>\n",
       "    </tr>\n",
       "  </tbody>\n",
       "</table>\n",
       "</div>"
      ],
      "text/plain": [
       "        train_id                           name  item_condition_id  \\\n",
       "525834    525834         Under armor sweatpants                  4   \n",
       "149839    149839                    Men's watch                  3   \n",
       "536234    536234    Eileen Fisher gray Cardigan                  3   \n",
       "427908    427908                 Blue Patagonia                  2   \n",
       "193641    193641  ✨4 YMED NIKE PRO for Lindsay✨                  1   \n",
       "\n",
       "                                         category_name       brand_name  \\\n",
       "525834  Women/Athletic Apparel/Pants, Tights, Leggings     Under Armour   \n",
       "149839                   Men/Men's Accessories/Watches     Tommy Bahama   \n",
       "536234                         Women/Sweaters/Cardigan    Eileen Fisher   \n",
       "427908       Men/Sweats & Hoodies/Sweatshirt, Pullover  Patagonia, Inc.   \n",
       "193641                           Kids/Girls (4+)/Other             Nike   \n",
       "\n",
       "        shipping                                   item_description   cat1  \\\n",
       "525834         1  Used condition size small black in color two p...  Women   \n",
       "149839         0  Tommy Bahama watch in good condition with new ...    Men   \n",
       "536234         0                     Large but fits medium or small  Women   \n",
       "427908         0                                 No description yet    Men   \n",
       "193641         0         4 YMED NIKE PRO compression shorts All NWT   Kids   \n",
       "\n",
       "                     cat2                     cat3  \n",
       "525834   Athletic Apparel  Pants, Tights, Leggings  \n",
       "149839  Men's Accessories                  Watches  \n",
       "536234           Sweaters                 Cardigan  \n",
       "427908   Sweats & Hoodies     Sweatshirt, Pullover  \n",
       "193641         Girls (4+)                    Other  "
      ]
     },
     "execution_count": 16,
     "metadata": {},
     "output_type": "execute_result"
    }
   ],
   "source": [
    "sample.head()"
   ]
  },
  {
   "cell_type": "code",
   "execution_count": 8,
   "metadata": {
    "collapsed": true
   },
   "outputs": [],
   "source": [
    "tf = TfidfVectorizer(max_features=10000,\n",
    "                     max_df = 0.95, min_df = 100) #using tf-idf preprocessing to convert text in numerical matrix"
   ]
  },
  {
   "cell_type": "code",
   "execution_count": 9,
   "metadata": {},
   "outputs": [
    {
     "name": "stdout",
     "output_type": "stream",
     "text": [
      "Working with name\n"
     ]
    },
    {
     "name": "stderr",
     "output_type": "stream",
     "text": [
      "C:\\Users\\Piboditheowl\\Anaconda3\\lib\\site-packages\\sklearn\\feature_extraction\\text.py:1059: FutureWarning: Conversion of the second argument of issubdtype from `float` to `np.floating` is deprecated. In future, it will be treated as `np.float64 == np.dtype(float).type`.\n",
      "  if hasattr(X, 'dtype') and np.issubdtype(X.dtype, np.float):\n"
     ]
    },
    {
     "name": "stdout",
     "output_type": "stream",
     "text": [
      "-------\n",
      "Working with item_description\n",
      "-------\n",
      "Working with cat1\n",
      "-------\n",
      "Working with cat2\n",
      "-------\n",
      "Working with cat3\n",
      "-------\n"
     ]
    }
   ],
   "source": [
    "#Evaluating tf-idf (transformig text into matrix)\n",
    "\n",
    "print('Working with name')\n",
    "x_name = tf.fit_transform(sample['name'].values)\n",
    "print(7*'-')\n",
    "print('Working with item_description')\n",
    "x_description = tf.fit_transform(sample['item_description'].values)\n",
    "print(7*'-')\n",
    "print('Working with cat1')\n",
    "x_cat1 = tf.fit_transform(sample['cat1'].values)\n",
    "print(7*'-')\n",
    "print('Working with cat2')\n",
    "x_cat2 = tf.fit_transform(sample['cat2'].values)\n",
    "print(7*'-')\n",
    "print('Working with cat3')\n",
    "x_cat3 =  tf.fit_transform(sample['cat3'].values)\n",
    "print(7*'-')"
   ]
  },
  {
   "cell_type": "code",
   "execution_count": 10,
   "metadata": {
    "collapsed": true
   },
   "outputs": [],
   "source": [
    "sample_preprocessed = hstack((x_name, x_description, x_cat1, x_cat2, x_cat3)).tocsr() #concatenating together and \n",
    "                                                                                      #using scipy sparse for low-memory\n",
    "                                                                                      #allocation of matrix \n",
    "mask = np.array(np.clip(sample_preprocessed.getnnz(axis=0) - 1, 0, 1), dtype=bool)\n",
    "sample_preprocessed = sample_preprocessed[:, mask]\n",
    "\n",
    "x_train, x_val, y_train, y_val = train_test_split(sample_preprocessed, y, test_size = 0.15) #splitting into test and train"
   ]
  },
  {
   "cell_type": "code",
   "execution_count": 11,
   "metadata": {
    "collapsed": true
   },
   "outputs": [],
   "source": [
    "model = FM_FTRL(alpha=0.01, beta=0.01, L1=0.00001, L2=0.1, D = sample_preprocessed.shape[1], alpha_fm=0.01, L2_fm=0.0, init_fm=0.01,\n",
    "                    D_fm=200, e_noise=0.0001, iters=15, inv_link=\"identity\", threads=16) #defining model"
   ]
  },
  {
   "cell_type": "code",
   "execution_count": 12,
   "metadata": {},
   "outputs": [
    {
     "name": "stdout",
     "output_type": "stream",
     "text": [
      "RMSLE score using FM_FTRL: 0.7428922496558461\n"
     ]
    }
   ],
   "source": [
    "model.fit(x_train, y_train) #training algorithm \n",
    "y_pred = model.predict(x_val)#evaluating algorithm \n",
    "print('RMSLE score using FM_FTRL:', rmsle(y_val, y_pred))"
   ]
  }
 ],
 "metadata": {
  "kernelspec": {
   "display_name": "Python 3",
   "language": "python",
   "name": "python3"
  },
  "language_info": {
   "codemirror_mode": {
    "name": "ipython",
    "version": 3
   },
   "file_extension": ".py",
   "mimetype": "text/x-python",
   "name": "python",
   "nbconvert_exporter": "python",
   "pygments_lexer": "ipython3",
   "version": "3.6.1"
  }
 },
 "nbformat": 4,
 "nbformat_minor": 2
}
