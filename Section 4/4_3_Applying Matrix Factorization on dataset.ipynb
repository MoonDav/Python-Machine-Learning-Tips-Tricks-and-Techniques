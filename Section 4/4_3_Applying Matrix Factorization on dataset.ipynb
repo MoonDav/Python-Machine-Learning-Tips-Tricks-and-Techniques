{
 "cells": [
  {
   "cell_type": "code",
   "execution_count": 1,
   "metadata": {
    "collapsed": true
   },
   "outputs": [],
   "source": [
    "import pandas as pd\n",
    "import numpy as np\n",
    "import scipy.sparse\n",
    "import json\n",
    "import os\n",
    "\n",
    "from tqdm import tqdm_notebook"
   ]
  },
  {
   "cell_type": "code",
   "execution_count": 2,
   "metadata": {
    "collapsed": true
   },
   "outputs": [],
   "source": [
    "def load_df():\n",
    "    df = pd.DataFrame()\n",
    "    with open('./mpd.slice.0-999.json') as data_file:\n",
    "        data_string = data_file.read()\n",
    "        try:\n",
    "            data = json.loads(data_string)\n",
    "        except ValueError:\n",
    "            print('Failed:')\n",
    "            print(repr(data_string))\n",
    "    df = pd.concat([df, pd.DataFrame(data['playlists'])], ignore_index=True)\n",
    "    return df"
   ]
  },
  {
   "cell_type": "code",
   "execution_count": 3,
   "metadata": {},
   "outputs": [
    {
     "data": {
      "application/vnd.jupyter.widget-view+json": {
       "model_id": "021cd30c4ab948929279de7ce40ccbed"
      }
     },
     "metadata": {},
     "output_type": "display_data"
    },
    {
     "name": "stdout",
     "output_type": "stream",
     "text": [
      "\n"
     ]
    }
   ],
   "source": [
    "df = load_df()\n",
    "df.drop(['description','name', 'pid', 'num_albums','num_artists', \n",
    "         'num_edits', 'num_followers', 'num_tracks', 'collaborative'], axis = 1, inplace = True) #dropping columns \n",
    "                                                                                                 #that we are not going\n",
    "                                                                                                 #to use\n",
    "\n",
    "artist_list = []\n",
    "vocab_artist = set()\n",
    "\n",
    "for row in tqdm_notebook(df.iterrows()): #iterating through df to get sequence of artists name \n",
    "                                         #that are contained in playlist\n",
    "    artists = [x['artist_name'] for x in row[1]['tracks']] #getting artists from playlist(json type)\n",
    "    for x in row[1]['tracks']:\n",
    "        vocab_artist.add(x['artist_name']) #creating set with unique artists name\n",
    "    artist_list.append(artists) \n",
    "\n",
    "df['artist_list'] = artist_list \n",
    "\n",
    "w2x_artist = {artist:i for i, artist in enumerate(vocab_artist)} #artist name to index\n",
    "x2w_artist = {i:artist for i, artist in enumerate(vocab_artist)} #index to artist name\n",
    "\n",
    "df['artist_idx'] = df['artist_list'].apply(lambda x: [w2x_artist[a] for a in x]) #converting sequence of artist name \n",
    "                                                                                 #to sequence of artists idx\n",
    "\n",
    "\n",
    "df['train_seq_artist'] = df['artist_idx'].apply(lambda x: x[:-3]) #creating train sequence\n",
    "df['target_val_artist'] = df['artist_idx'].apply(lambda x: x[-3:]) #creating validation sequence"
   ]
  },
  {
   "cell_type": "code",
   "execution_count": 4,
   "metadata": {},
   "outputs": [
    {
     "data": {
      "application/vnd.jupyter.widget-view+json": {
       "model_id": "f2b51261211746bdb1a82ec4f4a5205a"
      }
     },
     "metadata": {},
     "output_type": "display_data"
    },
    {
     "name": "stdout",
     "output_type": "stream",
     "text": [
      "\n"
     ]
    }
   ],
   "source": [
    "inds = df['train_seq_artist']\n",
    "playlist_artist_train = scipy.sparse.lil_matrix((df.shape[0], len(vocab_artist)), dtype=np.int8) \n",
    "#creating binary playlist artist matrix for train\n",
    "for i, row in tqdm_notebook(enumerate(inds)):\n",
    "    playlist_artist_train[i, row] = 1 "
   ]
  },
  {
   "cell_type": "code",
   "execution_count": 5,
   "metadata": {},
   "outputs": [
    {
     "data": {
      "application/vnd.jupyter.widget-view+json": {
       "model_id": "d69d1ef08794412d9c6785ab878d3429"
      }
     },
     "metadata": {},
     "output_type": "display_data"
    },
    {
     "name": "stdout",
     "output_type": "stream",
     "text": [
      "\n"
     ]
    }
   ],
   "source": [
    "inds = df['target_val_artist']\n",
    "playlist_artist_val = scipy.sparse.lil_matrix((df.shape[0], len(vocab_artist)), dtype=np.int8)\n",
    "#creating binary playlist artist matrix for validation\n",
    "for i, row in tqdm_notebook(enumerate(inds)):\n",
    "    playlist_artist_val[i, row] = 1 "
   ]
  },
  {
   "cell_type": "code",
   "execution_count": 6,
   "metadata": {},
   "outputs": [
    {
     "name": "stdout",
     "output_type": "stream",
     "text": [
      "Hit rate using most popular benchmark: 0.037\n",
      "Precision using most popular benchmark: 0.013\n"
     ]
    }
   ],
   "source": [
    "precision = []\n",
    "hr = []\n",
    "sum_artists = np.asarray(np.sum(playlist_artist_train, axis = 0)).reshape((9722, ))\n",
    "preds = np.argsort(sum_artists)[-3:]\n",
    "y_true = df['target_val_artist']\n",
    "for y in y_true:\n",
    "    score = len(set(preds) & set(y))\n",
    "    precision.append(score/3)\n",
    "    hr.append(int(score > 0))\n",
    "print('Hit rate using most popular benchmark:', np.mean(hr))\n",
    "print('Precision using most popular benchmark:', np.mean(precision))"
   ]
  },
  {
   "cell_type": "code",
   "execution_count": 7,
   "metadata": {
    "collapsed": true
   },
   "outputs": [],
   "source": [
    "def get_neg_candidates_train(i):\n",
    "    #getting negative candidates for supervised learning algorithm for train\n",
    "    np.random.seed(42)\n",
    "    neg = np.where(playlist_artist_train.getrow(i).toarray()[0] == 0)[0]\n",
    "    ind = np.random.randint(0, neg.shape[0], size = 3).tolist()\n",
    "    return neg[ind].tolist()"
   ]
  },
  {
   "cell_type": "code",
   "execution_count": 8,
   "metadata": {},
   "outputs": [
    {
     "data": {
      "application/vnd.jupyter.widget-view+json": {
       "model_id": "75353c20f7f948ca9a4ddf7d95df6dfe"
      }
     },
     "metadata": {},
     "output_type": "display_data"
    },
    {
     "name": "stdout",
     "output_type": "stream",
     "text": [
      "\n"
     ]
    }
   ],
   "source": [
    "f = open('libfm-1.40.windows/train.txt', 'w')\n",
    "n_users = 1000\n",
    "for row in tqdm_notebook(enumerate(playlist_artist_train)): #converting train data for libfm format \n",
    "    for j in np.nonzero(row[1].toarray())[1]: #writing down positive candidates for playlist №row\n",
    "        f.write(str(1) + ' ')\n",
    "        f.write(str(row[0]) + ':' + '1 ') \n",
    "        f.write(str(n_users + j) + ':' + '1 ')\n",
    "        f.write('\\n')\n",
    "    neg_candidates = get_neg_candidates_train(row[0]) #writing down negative candidates for playlist №row\n",
    "    for j in neg_candidates:\n",
    "        f.write(str(0) + ' ')\n",
    "        f.write(str(row[0]) + ':' + '1 ')\n",
    "        f.write(str(j) + ':' + '1 ')\n",
    "        f.write('\\n')\n",
    "f.close()"
   ]
  },
  {
   "cell_type": "code",
   "execution_count": 9,
   "metadata": {
    "collapsed": true
   },
   "outputs": [],
   "source": [
    "def get_neg_candidates_val(i):\n",
    "    #getting negative candidates for supervised learning algorithm for evaluating MF algorithm\n",
    "    np.random.seed(42)\n",
    "    neg = np.where(playlist_artist_val.getrow(i).toarray()[0] == 0)[0]\n",
    "    ind = np.random.randint(0, neg.shape[0], size = 3).tolist()\n",
    "    return neg[ind].tolist()"
   ]
  },
  {
   "cell_type": "code",
   "execution_count": 10,
   "metadata": {},
   "outputs": [
    {
     "data": {
      "application/vnd.jupyter.widget-view+json": {
       "model_id": "b3e185ab54e54bb291e57cad8f925289"
      }
     },
     "metadata": {},
     "output_type": "display_data"
    },
    {
     "name": "stdout",
     "output_type": "stream",
     "text": [
      "\n"
     ]
    }
   ],
   "source": [
    "f = open('libfm-1.40.windows/val.txt', 'w')\n",
    "n_users = 1000\n",
    "answer_dict = {i:[] for i in range(playlist_artist_val.shape[0])}\n",
    "for row in tqdm_notebook(enumerate(playlist_artist_val)): #converting train data for libfm format \n",
    "    positive_candidates = np.nonzero(row[1].toarray())[1] #writing down positive candidates for playlist №row\n",
    "    for j in positive_candidates:\n",
    "        f.write(str(1) + ' ')\n",
    "        f.write(str(row[0]) + ':' + '1 ')\n",
    "        f.write(str(n_users + j) + ':' + '1 ')\n",
    "        f.write('\\n')\n",
    "    neg_candidates = get_neg_candidates_val(row[0])\n",
    "    answer_dict[row[0]] += positive_candidates.tolist() + neg_candidates #using dict playlist : pos + neg candidates\n",
    "    for j in neg_candidates: #writing down negative candidates for playlist №row\n",
    "        f.write(str(0) + ' ')\n",
    "        f.write(str(row[0]) + ':' + '1 ')\n",
    "        f.write(str(n_users + j) + ':' + '1 ')\n",
    "        f.write('\\n')\n",
    "f.close()"
   ]
  },
  {
   "cell_type": "code",
   "execution_count": 11,
   "metadata": {
    "collapsed": true
   },
   "outputs": [],
   "source": [
    "import subprocess"
   ]
  },
  {
   "cell_type": "code",
   "execution_count": 12,
   "metadata": {},
   "outputs": [
    {
     "name": "stdout",
     "output_type": "stream",
     "text": [
      "Finished training\n"
     ]
    }
   ],
   "source": [
    "cmd = ' '.join(['libfm-1.40.windows/libFM', '-task', 'r', '-train', 'libfm-1.40.windows/train.txt', \n",
    "                         '-test', '../libfm-1.42.src/bin/val.txt', '-iter', '20', '-method', 'sgd',\n",
    "                         '-regular', '’3,3,15’', '-dim', '’1,1,4’', '-init_stdev',\n",
    "                         '0.1', '-out', 'output.txt', '-learn_rate', '0.001']) #hyperparameters (for mor info see \n",
    "                                                                               #manual attached to the course)\n",
    "proc = subprocess.Popen(cmd, shell=True, stdout=subprocess.PIPE, stderr=subprocess.STDOUT) #starting subprocess \n",
    "                                                                                                           #in console\n",
    "for line in iter(proc.stdout.readline, ''): #evaluating libfm\n",
    "    if line == b'':\n",
    "        print('Finished training')\n",
    "        break"
   ]
  },
  {
   "cell_type": "code",
   "execution_count": 13,
   "metadata": {
    "collapsed": true
   },
   "outputs": [],
   "source": [
    "with open('./output.txt', 'r') as f:\n",
    "    val_answers = [float(x.strip()) for x in f.readlines()] #opening file with answers"
   ]
  },
  {
   "cell_type": "code",
   "execution_count": 14,
   "metadata": {},
   "outputs": [
    {
     "data": {
      "application/vnd.jupyter.widget-view+json": {
       "model_id": "d30cbbacfbe24855a0291de0b6a3b0ca"
      }
     },
     "metadata": {},
     "output_type": "display_data"
    },
    {
     "name": "stdout",
     "output_type": "stream",
     "text": [
      "\n",
      "MF HR@3 score: 0.939\n",
      "MF precision@3 score: 0.569\n"
     ]
    }
   ],
   "source": [
    "num_read = 0\n",
    "precision = []\n",
    "hr = []\n",
    "for i in tqdm_notebook(range(playlist_artist_val.shape[0])): #calculating metric\n",
    "    all_answers = np.asarray(answer_dict[i])\n",
    "    y_true = all_answers[:-3] #true answers (first 3 elements in the array)\n",
    "    mf_answers = val_answers[num_read:num_read + len(all_answers)] #answers from algorithm\n",
    "    num_read += len(all_answers) #num of rows that were read from the val_answer\n",
    "    y_pred_ind = np.argsort(mf_answers)[-3:] #top3 by probability\n",
    "    y_pred = all_answers[y_pred_ind] #getting idx of these artists\n",
    "    score = len(set(y_pred) & set(y_true)) #num of guessed artists\n",
    "    precision.append(score/3)\n",
    "    hr.append(int(score > 0))\n",
    "print('MF HR@3 score:', np.mean(hr))\n",
    "print('MF precision@3 score:', np.mean(precision))"
   ]
  },
  {
   "cell_type": "code",
   "execution_count": 15,
   "metadata": {},
   "outputs": [
    {
     "data": {
      "text/plain": [
       "[1325, 3410, 9260, 7272, 860, 5392]"
      ]
     },
     "execution_count": 15,
     "metadata": {},
     "output_type": "execute_result"
    }
   ],
   "source": [
    "answer_dict[0]"
   ]
  },
  {
   "cell_type": "code",
   "execution_count": null,
   "metadata": {
    "collapsed": true
   },
   "outputs": [],
   "source": []
  }
 ],
 "metadata": {
  "kernelspec": {
   "display_name": "Python 3",
   "language": "python",
   "name": "python3"
  },
  "language_info": {
   "codemirror_mode": {
    "name": "ipython",
    "version": 3
   },
   "file_extension": ".py",
   "mimetype": "text/x-python",
   "name": "python",
   "nbconvert_exporter": "python",
   "pygments_lexer": "ipython3",
   "version": "3.6.1"
  }
 },
 "nbformat": 4,
 "nbformat_minor": 2
}
