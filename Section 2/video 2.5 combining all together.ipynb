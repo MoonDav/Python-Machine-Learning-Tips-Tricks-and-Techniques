{
 "cells": [
  {
   "cell_type": "code",
   "execution_count": 9,
   "metadata": {},
   "outputs": [],
   "source": [
    "import pandas as pd\n",
    "import numpy as np\n",
    "import matplotlib.pyplot as plt\n",
    "%matplotlib inline\n",
    "from sklearn.preprocessing import StandardScaler\n",
    "from sklearn.neighbors import KNeighborsClassifier\n",
    "from sklearn.tree import DecisionTreeClassifier\n",
    "from sklearn.svm import SVC\n",
    "from sklearn.model_selection import train_test_split\n",
    "from sklearn.metrics import roc_auc_score\n",
    "from sklearn.linear_model import LogisticRegression\n",
    "from keras.models import Sequential, Input, Model\n",
    "from keras.layers import Dense, Activation, Dropout, Flatten, BatchNormalization\n",
    "from keras.callbacks import EarlyStopping, ReduceLROnPlateau\n",
    "from sklearn.metrics import accuracy_score\n",
    "import warnings\n",
    "warnings.filterwarnings(\"ignore\")\n",
    "np.random.seed(42)\n"
   ]
  },
  {
   "cell_type": "code",
   "execution_count": 5,
   "metadata": {},
   "outputs": [],
   "source": [
    "df = pd.read_csv(\"train.csv\", sep = ',')\n",
    "df = df.sample(frac = 0.2, random_state = 123)\n",
    "y = df.pop('target')\n",
    "df.drop('id', axis = 1, inplace=True)\n",
    "train, test, y_train, y_test = train_test_split(df, y, test_size = 0.2)"
   ]
  },
  {
   "cell_type": "code",
   "execution_count": 18,
   "metadata": {},
   "outputs": [
    {
     "name": "stdout",
     "output_type": "stream",
     "text": [
      "AUC baseline: 0.6205363530135511\n"
     ]
    }
   ],
   "source": [
    "lr = LogisticRegression()\n",
    "lr.fit(train, y_train)\n",
    "y_pred = lr.predict_proba(test)\n",
    "print('AUC baseline:', roc_auc_score(y_test, y_pred[:,1]))"
   ]
  },
  {
   "cell_type": "code",
   "execution_count": 19,
   "metadata": {
    "collapsed": true
   },
   "outputs": [],
   "source": [
    "scaler = StandardScaler()\n",
    "df_values = scaler.fit_transform(df)"
   ]
  },
  {
   "cell_type": "code",
   "execution_count": 20,
   "metadata": {
    "collapsed": true
   },
   "outputs": [],
   "source": [
    "def fit_knn(train, test, y_train, y_test, \n",
    "                n_neighbours = 64, metric = 'euclidean', weights = 'distance'):   \n",
    "    knn = KNeighborsClassifier(n_neighbors=n_neighbours, metric=metric, \n",
    "                               weights=weights, n_jobs = 4)\n",
    "    knn.fit(train, y_train)\n",
    "    y_pred = knn.predict_proba(test)\n",
    "    print(roc_auc_score(y_test, y_pred[:, 1]))"
   ]
  },
  {
   "cell_type": "code",
   "execution_count": 21,
   "metadata": {
    "collapsed": true
   },
   "outputs": [],
   "source": [
    "def fit_svm(train, test, y_train, y_test, kernel = 'linear', C = 1.5, degree = 3):  \n",
    "    svm = SVC(kernel = kernel, degree = degree, C = C, max_iter=100, probability=True)\n",
    "    svm.fit(train, y_train)\n",
    "    y_pred = svm.predict_proba(test)\n",
    "    print(roc_auc_score(y_test, y_pred[:, 1]))"
   ]
  },
  {
   "cell_type": "code",
   "execution_count": 22,
   "metadata": {
    "collapsed": true
   },
   "outputs": [],
   "source": [
    "def fit_tree(train, test, y_train, y_test, max_depth = 9, \n",
    "                criterion = 'entropy', max_features = 0.8, min_samples_split = 6):\n",
    "    tree = DecisionTreeClassifier(criterion = criterion, max_depth=max_depth, \n",
    "                                random_state=111, max_features=max_features,\n",
    "                               min_samples_split=min_samples_split)\n",
    "    tree.fit(train, y_train)\n",
    "    y_pred = tree.predict_proba(test)\n",
    "    print(roc_auc_score(y_test, y_pred[:, 1]))"
   ]
  },
  {
   "cell_type": "code",
   "execution_count": 23,
   "metadata": {
    "collapsed": true
   },
   "outputs": [],
   "source": [
    "def create_autoencoder_model(object_size=df.shape[1], encoder_layer_shapes=[128, 64, 32], decoder_layer_shapes=[64, 128]):\n",
    "    # входные параметры:\n",
    "    # object_size: int, размер входного и выходного слоя автоэнкодера\n",
    "    # encoder_layer_shapes: list of int, количество нейронов в каждом слое энкодера. \n",
    "    #                       последний элемент списка - размер \"бутылочного горлышка\"\n",
    "    # decoder_layer_shapes: ist of int, количество нейронов в каждом слое декодера\n",
    "    \n",
    "    # выход:\n",
    "    # keras модель\n",
    "    input_ = Input(shape=(object_size,))\n",
    "    encoded = Dense(encoder_layer_shapes[0], activation='elu')(input_)\n",
    "    encoded = BatchNormalization()(encoded)\n",
    "    encoded = Dense(encoder_layer_shapes[1], activation='elu')(encoded)\n",
    "    encoded = BatchNormalization()(encoded)\n",
    "    encoded = Dense(encoder_layer_shapes[2], activation='elu')(encoded)\n",
    "    encoded = BatchNormalization()(encoded)\n",
    "    decoded = Dense(decoder_layer_shapes[0], activation='elu')(encoded)\n",
    "    decoded = BatchNormalization()(decoded)\n",
    "    decoded = Dense(decoder_layer_shapes[1], activation='elu')(decoded)\n",
    "    decoded = BatchNormalization()(decoded)\n",
    "    decoded = Dense(object_size, activation='sigmoid')(decoded)\n",
    "    \n",
    "    model = Model(input_, decoded)\n",
    "    model.compile(optimizer = 'Adam', loss='mean_squared_error')\n",
    "    return model"
   ]
  },
  {
   "cell_type": "code",
   "execution_count": 24,
   "metadata": {
    "collapsed": true
   },
   "outputs": [],
   "source": [
    "train, test, y_train, y_test = train_test_split(df_values, y, test_size = 0.2)"
   ]
  },
  {
   "cell_type": "code",
   "execution_count": 25,
   "metadata": {},
   "outputs": [
    {
     "name": "stdout",
     "output_type": "stream",
     "text": [
      "Train on 95233 samples, validate on 23809 samples\n",
      "Epoch 1/100\n",
      "95233/95233 [==============================] - 4s 39us/step - loss: 0.8554 - val_loss: 0.7237\n",
      "Epoch 2/100\n",
      "95233/95233 [==============================] - 3s 30us/step - loss: 0.6612 - val_loss: 0.6782\n",
      "Epoch 3/100\n",
      "95233/95233 [==============================] - 3s 29us/step - loss: 0.6390 - val_loss: 0.6564\n",
      "Epoch 4/100\n",
      "95233/95233 [==============================] - 3s 29us/step - loss: 0.6311 - val_loss: 0.6472\n",
      "Epoch 5/100\n",
      "95233/95233 [==============================] - 3s 28us/step - loss: 0.6258 - val_loss: 0.6417\n",
      "Epoch 6/100\n",
      "95233/95233 [==============================] - 3s 29us/step - loss: 0.6228 - val_loss: 0.6384\n",
      "Epoch 7/100\n",
      "95233/95233 [==============================] - 3s 28us/step - loss: 0.6210 - val_loss: 0.6368\n",
      "Epoch 8/100\n",
      "95233/95233 [==============================] - 3s 29us/step - loss: 0.6194 - val_loss: 0.6344\n",
      "Epoch 9/100\n",
      "95233/95233 [==============================] - 3s 28us/step - loss: 0.6179 - val_loss: 0.6328\n",
      "Epoch 10/100\n",
      "95233/95233 [==============================] - 3s 28us/step - loss: 0.6166 - val_loss: 0.6315\n",
      "Epoch 11/100\n",
      "95233/95233 [==============================] - 3s 28us/step - loss: 0.6155 - val_loss: 0.6306\n",
      "Epoch 12/100\n",
      "95233/95233 [==============================] - 3s 29us/step - loss: 0.6147 - val_loss: 0.6298\n",
      "Epoch 13/100\n",
      "95233/95233 [==============================] - 3s 28us/step - loss: 0.6141 - val_loss: 0.6289\n",
      "Epoch 14/100\n",
      "95233/95233 [==============================] - 3s 29us/step - loss: 0.6136 - val_loss: 0.6283\n",
      "Epoch 15/100\n",
      "95233/95233 [==============================] - 3s 29us/step - loss: 0.6130 - val_loss: 0.6281\n",
      "Epoch 16/100\n",
      "95233/95233 [==============================] - 3s 28us/step - loss: 0.6124 - val_loss: 0.6273\n",
      "Epoch 17/100\n",
      "95233/95233 [==============================] - 3s 29us/step - loss: 0.6119 - val_loss: 0.6268\n",
      "Epoch 18/100\n",
      "95233/95233 [==============================] - 3s 29us/step - loss: 0.6114 - val_loss: 0.6260\n",
      "Epoch 19/100\n",
      "95233/95233 [==============================] - 3s 28us/step - loss: 0.6111 - val_loss: 0.6261\n",
      "Epoch 20/100\n",
      "95233/95233 [==============================] - 3s 28us/step - loss: 0.6108 - val_loss: 0.6257\n",
      "Epoch 21/100\n",
      "95233/95233 [==============================] - 3s 29us/step - loss: 0.6105 - val_loss: 0.6253\n",
      "Epoch 22/100\n",
      "95233/95233 [==============================] - 3s 28us/step - loss: 0.6103 - val_loss: 0.6251\n",
      "Epoch 23/100\n",
      "95233/95233 [==============================] - 3s 29us/step - loss: 0.6102 - val_loss: 0.6249\n",
      "Epoch 24/100\n",
      "95233/95233 [==============================] - 3s 29us/step - loss: 0.6101 - val_loss: 0.6247\n",
      "Epoch 25/100\n",
      "95233/95233 [==============================] - 3s 29us/step - loss: 0.6098 - val_loss: 0.6246\n",
      "Epoch 26/100\n",
      "95233/95233 [==============================] - 3s 29us/step - loss: 0.6098 - val_loss: 0.6247\n",
      "Epoch 27/100\n",
      "95233/95233 [==============================] - 3s 29us/step - loss: 0.6096 - val_loss: 0.6242\n",
      "Epoch 28/100\n",
      "95233/95233 [==============================] - 3s 28us/step - loss: 0.6095 - val_loss: 0.6240\n",
      "Epoch 29/100\n",
      "95233/95233 [==============================] - 3s 29us/step - loss: 0.6094 - val_loss: 0.6240\n",
      "Epoch 30/100\n",
      "95233/95233 [==============================] - 3s 29us/step - loss: 0.6092 - val_loss: 0.6240\n",
      "Epoch 31/100\n",
      "95233/95233 [==============================] - 3s 29us/step - loss: 0.6091 - val_loss: 0.6235\n",
      "Epoch 32/100\n",
      "95233/95233 [==============================] - 3s 28us/step - loss: 0.6090 - val_loss: 0.6235\n",
      "Epoch 33/100\n",
      "95233/95233 [==============================] - 3s 29us/step - loss: 0.6089 - val_loss: 0.6234\n",
      "Epoch 34/100\n",
      "95233/95233 [==============================] - 3s 28us/step - loss: 0.6089 - val_loss: 0.6236\n",
      "Epoch 35/100\n",
      "95233/95233 [==============================] - 3s 28us/step - loss: 0.6088 - val_loss: 0.6233\n",
      "Epoch 36/100\n",
      "95233/95233 [==============================] - 3s 29us/step - loss: 0.6086 - val_loss: 0.6230\n",
      "Epoch 37/100\n",
      "95233/95233 [==============================] - 3s 29us/step - loss: 0.6087 - val_loss: 0.6233\n",
      "Epoch 38/100\n",
      "95233/95233 [==============================] - 3s 28us/step - loss: 0.6086 - val_loss: 0.6231\n",
      "Epoch 39/100\n",
      "95233/95233 [==============================] - 3s 28us/step - loss: 0.6085 - val_loss: 0.6232\n",
      "Epoch 40/100\n",
      "95233/95233 [==============================] - 3s 29us/step - loss: 0.6084 - val_loss: 0.6228\n",
      "Epoch 41/100\n",
      "95233/95233 [==============================] - 3s 28us/step - loss: 0.6084 - val_loss: 0.6232\n",
      "Epoch 42/100\n",
      "95233/95233 [==============================] - 3s 28us/step - loss: 0.6083 - val_loss: 0.6230\n",
      "Epoch 43/100\n",
      "95233/95233 [==============================] - 3s 28us/step - loss: 0.6084 - val_loss: 0.6229\n",
      "Epoch 44/100\n",
      "95233/95233 [==============================] - 3s 29us/step - loss: 0.6082 - val_loss: 0.6230\n",
      "Epoch 45/100\n",
      "95233/95233 [==============================] - 3s 28us/step - loss: 0.6082 - val_loss: 0.6230\n",
      "Epoch 46/100\n",
      "95233/95233 [==============================] - 3s 29us/step - loss: 0.6081 - val_loss: 0.6227\n",
      "\n",
      "Epoch 00046: ReduceLROnPlateau reducing learning rate to 0.00010000000474974513.\n",
      "Epoch 47/100\n",
      "95233/95233 [==============================] - 3s 29us/step - loss: 0.6075 - val_loss: 0.6216\n",
      "Epoch 48/100\n",
      "95233/95233 [==============================] - 3s 29us/step - loss: 0.6074 - val_loss: 0.6216\n",
      "Epoch 49/100\n",
      "95233/95233 [==============================] - 3s 29us/step - loss: 0.6074 - val_loss: 0.6215\n",
      "Epoch 50/100\n",
      "95233/95233 [==============================] - 3s 29us/step - loss: 0.6074 - val_loss: 0.6215\n",
      "Epoch 51/100\n",
      "95233/95233 [==============================] - 3s 28us/step - loss: 0.6074 - val_loss: 0.6215\n",
      "Epoch 52/100\n",
      "95233/95233 [==============================] - 3s 29us/step - loss: 0.6074 - val_loss: 0.6216\n",
      "Epoch 53/100\n",
      "95233/95233 [==============================] - 3s 29us/step - loss: 0.6073 - val_loss: 0.6215\n",
      "Epoch 54/100\n",
      "95233/95233 [==============================] - 3s 29us/step - loss: 0.6073 - val_loss: 0.6215\n",
      "Epoch 55/100\n",
      "95233/95233 [==============================] - 3s 29us/step - loss: 0.6074 - val_loss: 0.6214\n",
      "Epoch 56/100\n",
      "95233/95233 [==============================] - 3s 29us/step - loss: 0.6073 - val_loss: 0.6215\n",
      "Epoch 57/100\n",
      "95233/95233 [==============================] - 3s 29us/step - loss: 0.6073 - val_loss: 0.6215\n",
      "Epoch 58/100\n",
      "95233/95233 [==============================] - 3s 29us/step - loss: 0.6073 - val_loss: 0.6214\n",
      "Epoch 59/100\n",
      "95233/95233 [==============================] - 3s 29us/step - loss: 0.6073 - val_loss: 0.6215\n",
      "Epoch 60/100\n",
      "95233/95233 [==============================] - 3s 29us/step - loss: 0.6073 - val_loss: 0.6214\n",
      "Epoch 61/100\n",
      "95233/95233 [==============================] - 3s 29us/step - loss: 0.6073 - val_loss: 0.6214\n",
      "\n",
      "Epoch 00061: ReduceLROnPlateau reducing learning rate to 1.0000000474974514e-05.\n",
      "Epoch 62/100\n",
      "95233/95233 [==============================] - 3s 29us/step - loss: 0.6072 - val_loss: 0.6214\n",
      "Epoch 63/100\n",
      "95233/95233 [==============================] - 3s 29us/step - loss: 0.6073 - val_loss: 0.6214\n",
      "Epoch 64/100\n",
      "95233/95233 [==============================] - 3s 29us/step - loss: 0.6072 - val_loss: 0.6214\n",
      "Epoch 65/100\n",
      "95233/95233 [==============================] - 3s 29us/step - loss: 0.6072 - val_loss: 0.6215\n",
      "Epoch 66/100\n",
      "95233/95233 [==============================] - 3s 29us/step - loss: 0.6072 - val_loss: 0.6214\n",
      "Epoch 67/100\n",
      "95233/95233 [==============================] - 3s 29us/step - loss: 0.6072 - val_loss: 0.6214\n",
      "Epoch 68/100\n",
      "95233/95233 [==============================] - 3s 29us/step - loss: 0.6072 - val_loss: 0.6214\n",
      "\n",
      "Epoch 00068: ReduceLROnPlateau reducing learning rate to 1.0000000656873453e-06.\n",
      "Epoch 69/100\n",
      "95233/95233 [==============================] - 3s 29us/step - loss: 0.6072 - val_loss: 0.6214\n",
      "Epoch 70/100\n",
      "95233/95233 [==============================] - 3s 29us/step - loss: 0.6072 - val_loss: 0.6214\n",
      "Epoch 71/100\n",
      "95233/95233 [==============================] - 3s 29us/step - loss: 0.6072 - val_loss: 0.6214\n",
      "Epoch 72/100\n",
      "95233/95233 [==============================] - 3s 29us/step - loss: 0.6072 - val_loss: 0.6214\n",
      "Epoch 73/100\n",
      "95233/95233 [==============================] - 3s 29us/step - loss: 0.6072 - val_loss: 0.6213\n",
      "Epoch 74/100\n",
      "95233/95233 [==============================] - 3s 29us/step - loss: 0.6072 - val_loss: 0.6214\n"
     ]
    },
    {
     "name": "stdout",
     "output_type": "stream",
     "text": [
      "Epoch 75/100\n",
      "95233/95233 [==============================] - 3s 29us/step - loss: 0.6072 - val_loss: 0.6214\n",
      "\n",
      "Epoch 00075: ReduceLROnPlateau reducing learning rate to 1.0000001111620805e-07.\n",
      "Epoch 76/100\n",
      "95233/95233 [==============================] - 3s 28us/step - loss: 0.6072 - val_loss: 0.6215\n",
      "Epoch 77/100\n",
      "95233/95233 [==============================] - 3s 29us/step - loss: 0.6072 - val_loss: 0.6214\n",
      "Epoch 78/100\n",
      "95233/95233 [==============================] - 3s 29us/step - loss: 0.6072 - val_loss: 0.6214\n",
      "Epoch 79/100\n",
      "95233/95233 [==============================] - 3s 29us/step - loss: 0.6072 - val_loss: 0.6214\n",
      "Epoch 80/100\n",
      "95233/95233 [==============================] - 3s 29us/step - loss: 0.6072 - val_loss: 0.6214\n",
      "Epoch 81/100\n",
      "95233/95233 [==============================] - 3s 29us/step - loss: 0.6072 - val_loss: 0.6214\n",
      "Epoch 82/100\n",
      "95233/95233 [==============================] - 3s 29us/step - loss: 0.6072 - val_loss: 0.6214\n",
      "\n",
      "Epoch 00082: ReduceLROnPlateau reducing learning rate to 1.000000082740371e-08.\n",
      "Epoch 83/100\n",
      "95233/95233 [==============================] - 3s 29us/step - loss: 0.6072 - val_loss: 0.6214\n",
      "Epoch 84/100\n",
      "95233/95233 [==============================] - 3s 29us/step - loss: 0.6072 - val_loss: 0.6215\n",
      "Epoch 85/100\n",
      "95233/95233 [==============================] - 3s 29us/step - loss: 0.6072 - val_loss: 0.6214\n",
      "Epoch 86/100\n",
      "95233/95233 [==============================] - 3s 29us/step - loss: 0.6072 - val_loss: 0.6214\n",
      "Epoch 87/100\n",
      "95233/95233 [==============================] - 3s 29us/step - loss: 0.6072 - val_loss: 0.6214\n",
      "Epoch 88/100\n",
      "95233/95233 [==============================] - 3s 29us/step - loss: 0.6072 - val_loss: 0.6214\n",
      "Epoch 89/100\n",
      "95233/95233 [==============================] - 3s 29us/step - loss: 0.6071 - val_loss: 0.6214\n",
      "\n",
      "Epoch 00089: ReduceLROnPlateau reducing learning rate to 1.000000082740371e-09.\n",
      "Epoch 90/100\n",
      "95233/95233 [==============================] - 3s 29us/step - loss: 0.6072 - val_loss: 0.6215\n",
      "Epoch 00090: early stopping\n"
     ]
    },
    {
     "data": {
      "text/plain": [
       "<keras.callbacks.History at 0x1d20b36b550>"
      ]
     },
     "execution_count": 25,
     "metadata": {},
     "output_type": "execute_result"
    }
   ],
   "source": [
    "autoencoder = create_autoencoder_model()\n",
    "\n",
    "early_stop = EarlyStopping(monitor='val_loss',\n",
    "                           patience=35,\n",
    "                           verbose=1,\n",
    "                           min_delta=1e-4)\n",
    "\n",
    "reduce_lr =  ReduceLROnPlateau(monitor='val_loss',\n",
    "                               factor=0.1,\n",
    "                               patience=5,\n",
    "                               cooldown=2,\n",
    "                               verbose=1)\n",
    "\n",
    "autoencoder.fit(train, train,\n",
    "                epochs=100,\n",
    "                batch_size=512,\n",
    "                validation_data=(test, test), callbacks = [early_stop, reduce_lr])"
   ]
  },
  {
   "cell_type": "code",
   "execution_count": 26,
   "metadata": {},
   "outputs": [
    {
     "name": "stdout",
     "output_type": "stream",
     "text": [
      "95233/95233 [==============================] - 2s 26us/step\n",
      "23809/23809 [==============================] - 1s 25us/step\n"
     ]
    }
   ],
   "source": [
    "model_bn = Model(autoencoder.input, autoencoder.layers[3].output)\n",
    "decompose_train = model_bn.predict(train, verbose = 1)\n",
    "decompose_test = model_bn.predict(test, verbose = 1)\n"
   ]
  },
  {
   "cell_type": "code",
   "execution_count": 27,
   "metadata": {},
   "outputs": [
    {
     "name": "stdout",
     "output_type": "stream",
     "text": [
      "ROC-AUC score on kNN:\n",
      "0.547487388360222\n",
      "ROC-AUC score on SVM:\n",
      "0.5264453710504442\n",
      "ROC-AUC score on Decision tree:\n",
      "0.5499497836853388\n"
     ]
    }
   ],
   "source": [
    "print('ROC-AUC score on kNN:')\n",
    "fit_knn(decompose_train, decompose_test, y_train, y_test)\n",
    "print('ROC-AUC score on SVM:')\n",
    "fit_svm(decompose_train, decompose_test, y_train, y_test)\n",
    "print('ROC-AUC score on Decision tree:')\n",
    "fit_tree(decompose_train, decompose_test, y_train, y_test)"
   ]
  },
  {
   "cell_type": "code",
   "execution_count": 28,
   "metadata": {},
   "outputs": [
    {
     "name": "stdout",
     "output_type": "stream",
     "text": [
      "ROC-AUC score on kNN:\n",
      "0.5609669115700139\n",
      "ROC-AUC score on SVM:\n",
      "0.4533384754593952\n",
      "ROC-AUC score on Decision tree:\n",
      "0.5525507861696763\n"
     ]
    }
   ],
   "source": [
    "print('ROC-AUC score on kNN:')\n",
    "fit_knn(train, test, y_train, y_test)\n",
    "print('ROC-AUC score on SVM:')\n",
    "fit_svm(train, test, y_train, y_test)\n",
    "print('ROC-AUC score on Decision tree:')\n",
    "fit_tree(train, test, y_train, y_test)"
   ]
  }
 ],
 "metadata": {
  "kernelspec": {
   "display_name": "Python 3",
   "language": "python",
   "name": "python3"
  },
  "language_info": {
   "codemirror_mode": {
    "name": "ipython",
    "version": 3
   },
   "file_extension": ".py",
   "mimetype": "text/x-python",
   "name": "python",
   "nbconvert_exporter": "python",
   "pygments_lexer": "ipython3",
   "version": "3.6.1"
  }
 },
 "nbformat": 4,
 "nbformat_minor": 2
}
