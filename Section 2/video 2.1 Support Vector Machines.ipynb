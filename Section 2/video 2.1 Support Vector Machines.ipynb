{
 "cells": [
  {
   "cell_type": "code",
   "execution_count": 1,
   "metadata": {
    "collapsed": true
   },
   "outputs": [],
   "source": [
    "import pandas as pd\n",
    "import numpy as np\n",
    "import matplotlib.pyplot as plt\n",
    "%matplotlib inline\n",
    "from sklearn.preprocessing import StandardScaler\n",
    "from sklearn.svm import SVC\n",
    "from sklearn.linear_model import LogisticRegression\n",
    "from sklearn.model_selection import train_test_split\n",
    "from sklearn.metrics import accuracy_score\n",
    "import warnings\n",
    "warnings.filterwarnings(\"ignore\")\n",
    "np.random.seed(42)"
   ]
  },
  {
   "cell_type": "code",
   "execution_count": 2,
   "metadata": {
    "collapsed": true
   },
   "outputs": [],
   "source": [
    "df = pd.read_csv(\"http://archive.ics.uci.edu/ml/machine-learning-databases/wine-quality/winequality-white.csv\", sep = ';')\n",
    "y = df.pop('quality')"
   ]
  },
  {
   "cell_type": "code",
   "execution_count": 3,
   "metadata": {
    "collapsed": true
   },
   "outputs": [],
   "source": [
    "for i in df.columns:\n",
    "    df[i] = df[i].fillna(np.mean(df[i]))\n",
    "train, test, y_train, y_test = train_test_split(df, y, test_size = 0.2)"
   ]
  },
  {
   "cell_type": "code",
   "execution_count": 5,
   "metadata": {},
   "outputs": [
    {
     "name": "stdout",
     "output_type": "stream",
     "text": [
      "Accuracy score baseline: 0.514285714286\n"
     ]
    }
   ],
   "source": [
    "lr = LogisticRegression()\n",
    "lr.fit(train, y_train)\n",
    "y_pred = lr.predict(test)\n",
    "print('Accuracy score baseline:', accuracy_score(y_test, y_pred))"
   ]
  },
  {
   "cell_type": "code",
   "execution_count": 6,
   "metadata": {
    "collapsed": true
   },
   "outputs": [],
   "source": [
    "def fit_predict(train, test, y_train, y_test, scaler, kernel = 'linear', C = 1.0, degree = 3):\n",
    "    train_scaled = scaler.fit_transform(train)\n",
    "    test_scaled = scaler.transform(test)        \n",
    "    lr = SVC(kernel = kernel, degree = degree, C = C)\n",
    "    lr.fit(train_scaled, y_train)\n",
    "    y_pred = lr.predict(test_scaled)\n",
    "    print(accuracy_score(y_test, y_pred))"
   ]
  },
  {
   "cell_type": "raw",
   "metadata": {},
   "source": [
    "def fit_predict(train, test, y_train, y_test, scaler):\n",
    "    train_scaled = scaler.fit_transform(train)\n",
    "    test_scaled = scaler.transform(test)        \n",
    "    lr = \n",
    "    lr.fit(train_scaled, y_train)\n",
    "    y_pred = lr.predict(test_scaled)\n",
    "    print(accuracy_score(y_test, y_pred))"
   ]
  },
  {
   "cell_type": "markdown",
   "metadata": {},
   "source": [
    "### Kernel tuning"
   ]
  },
  {
   "cell_type": "code",
   "execution_count": 7,
   "metadata": {},
   "outputs": [
    {
     "name": "stdout",
     "output_type": "stream",
     "text": [
      "Accuracy score using linear kernel: 0.509183673469\n",
      "Accuracy score using poly kernel: 0.525510204082\n",
      "Accuracy score using rbf kernel: 0.561224489796\n",
      "Accuracy score using sigmoid kernel: 0.404081632653\n"
     ]
    }
   ],
   "source": [
    "for kernel in ['linear', 'poly', 'rbf', 'sigmoid']:\n",
    "    print('Accuracy score using {0} kernel:'.format(kernel), end = ' ')\n",
    "    fit_predict(train, test, y_train, y_test, StandardScaler(), kernel)"
   ]
  },
  {
   "cell_type": "markdown",
   "metadata": {},
   "source": [
    "### Penalty tuning"
   ]
  },
  {
   "cell_type": "code",
   "execution_count": 9,
   "metadata": {},
   "outputs": [
    {
     "name": "stdout",
     "output_type": "stream",
     "text": [
      "Accuracy score using penalty = 0.5 with rbf kernel: 0.540816326531\n",
      "Accuracy score using penalty = 0.8705505632961241 with rbf kernel: 0.560204081633\n",
      "Accuracy score using penalty = 1.5157165665103982 with rbf kernel: 0.558163265306\n",
      "Accuracy score using penalty = 2.6390158215457893 with rbf kernel: 0.564285714286\n",
      "Accuracy score using penalty = 4.59479341998814 with rbf kernel: 0.577551020408\n",
      "Accuracy score using penalty = 8.0 with rbf kernel: 0.591836734694\n"
     ]
    }
   ],
   "source": [
    "for с in np.logspace(-1, 3, base = 2, num = 6):\n",
    "    print('Accuracy score using penalty = {0} with rbf kernel:'.format(с), end = ' ')\n",
    "    fit_predict(train, test, y_train, y_test, StandardScaler(), 'rbf', с)"
   ]
  },
  {
   "cell_type": "markdown",
   "metadata": {},
   "source": [
    "### Choosing degree for poly kernel"
   ]
  },
  {
   "cell_type": "code",
   "execution_count": 10,
   "metadata": {},
   "outputs": [
    {
     "name": "stdout",
     "output_type": "stream",
     "text": [
      "Accuracy score using degree = 2 with poly kernel: 0.486734693878\n",
      "Accuracy score using degree = 3 with poly kernel: 0.518367346939\n",
      "Accuracy score using degree = 4 with poly kernel: 0.521428571429\n",
      "Accuracy score using degree = 5 with poly kernel: 0.530612244898\n"
     ]
    }
   ],
   "source": [
    "for degree in range(2, 6):\n",
    "    print('Accuracy score using degree = {0} with poly kernel:'.format(degree), end = ' ')\n",
    "    fit_predict(train, test, y_train, y_test, StandardScaler(), 'poly', 1.5, degree = degree)"
   ]
  },
  {
   "cell_type": "code",
   "execution_count": 11,
   "metadata": {},
   "outputs": [
    {
     "name": "stdout",
     "output_type": "stream",
     "text": [
      "overall improvement is 15.08 %\n"
     ]
    }
   ],
   "source": [
    "original_score = 0.514285714286\n",
    "best_score = 0.591836734694\n",
    "improvement = np.abs(np.round(100*(original_score - best_score)/original_score,2))\n",
    "print('overall improvement is {} %'.format(improvement))"
   ]
  }
 ],
 "metadata": {
  "kernelspec": {
   "display_name": "Python 3",
   "language": "python",
   "name": "python3"
  },
  "language_info": {
   "codemirror_mode": {
    "name": "ipython",
    "version": 3
   },
   "file_extension": ".py",
   "mimetype": "text/x-python",
   "name": "python",
   "nbconvert_exporter": "python",
   "pygments_lexer": "ipython3",
   "version": "3.6.1"
  }
 },
 "nbformat": 4,
 "nbformat_minor": 2
}
