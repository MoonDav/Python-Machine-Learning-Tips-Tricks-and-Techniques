{
 "cells": [
  {
   "cell_type": "code",
   "execution_count": 1,
   "metadata": {
    "collapsed": true
   },
   "outputs": [],
   "source": [
    "import pandas as pd\n",
    "import numpy as np\n",
    "from itertools import combinations\n",
    "from catboost import CatBoostClassifier\n",
    "from sklearn.model_selection import train_test_split, KFold\n",
    "from sklearn.metrics import roc_auc_score\n",
    "import warnings\n",
    "warnings.filterwarnings(\"ignore\")\n",
    "np.random.seed(42)"
   ]
  },
  {
   "cell_type": "code",
   "execution_count": 2,
   "metadata": {
    "collapsed": true
   },
   "outputs": [],
   "source": [
    "df = pd.read_csv('train.csv')\n",
    "y = df.target\n",
    "\n",
    "df.drop(['ID', 'target'], axis=1, inplace=True)\n",
    "df.fillna(-9999, inplace=True)\n",
    "cat_features_ids = np.where(df.apply(pd.Series.nunique) < 30000)[0].tolist()"
   ]
  },
  {
   "cell_type": "code",
   "execution_count": 3,
   "metadata": {
    "collapsed": true
   },
   "outputs": [],
   "source": [
    "train, test, y_train, y_test = train_test_split(df, y, test_size = 0.1)"
   ]
  },
  {
   "cell_type": "code",
   "execution_count": 4,
   "metadata": {},
   "outputs": [
    {
     "name": "stdout",
     "output_type": "stream",
     "text": [
      "Roc-auc score with Catboost without regularization: 0.7939610054617733\n",
      "Roc-auc score with Catboost with regularization: 0.7961023589633582\n"
     ]
    }
   ],
   "source": [
    "clf = CatBoostClassifier(learning_rate=0.1, iterations=100, random_seed=42, eval_metric='AUC', logging_level='Silent')\n",
    "clf.fit(train, y_train, cat_features=cat_features_ids)\n",
    "prediction = clf.predict_proba(test)\n",
    "print('Roc-auc score with Catboost without regularization:',roc_auc_score(y_test, prediction[:, 1]))\n",
    "\n",
    "clf = CatBoostClassifier(learning_rate=0.1, iterations=100, random_seed=42, \n",
    "                         eval_metric='AUC', logging_level='Silent', l2_leaf_reg=3, \n",
    "                         model_size_reg = 3)\n",
    "clf.fit(train, y_train, cat_features=cat_features_ids)\n",
    "prediction = clf.predict_proba(test)\n",
    "print('Roc-auc score with Catboost with regularization:',roc_auc_score(y_test, prediction[:, 1]))"
   ]
  }
 ],
 "metadata": {
  "kernelspec": {
   "display_name": "Python 3",
   "language": "python",
   "name": "python3"
  },
  "language_info": {
   "codemirror_mode": {
    "name": "ipython",
    "version": 3
   },
   "file_extension": ".py",
   "mimetype": "text/x-python",
   "name": "python",
   "nbconvert_exporter": "python",
   "pygments_lexer": "ipython3",
   "version": "3.6.1"
  }
 },
 "nbformat": 4,
 "nbformat_minor": 2
}
