{
 "cells": [
  {
   "cell_type": "code",
   "execution_count": 1,
   "metadata": {
    "collapsed": true
   },
   "outputs": [],
   "source": [
    "import pandas as pd\n",
    "import numpy as np\n",
    "from itertools import combinations\n",
    "from catboost import CatBoostClassifier\n",
    "from sklearn.model_selection import train_test_split, KFold\n",
    "from sklearn.metrics import roc_auc_score\n",
    "import warnings\n",
    "warnings.filterwarnings(\"ignore\")\n",
    "np.random.seed(42)"
   ]
  },
  {
   "cell_type": "code",
   "execution_count": 2,
   "metadata": {
    "collapsed": true
   },
   "outputs": [],
   "source": [
    "df = pd.read_csv('train.csv')\n",
    "y = df.target\n",
    "\n",
    "df.drop(['ID', 'target'], axis=1, inplace=True)\n",
    "df.fillna(-9999, inplace=True)\n",
    "cat_features_ids = np.where(df.apply(pd.Series.nunique) < 30000)[0].tolist()"
   ]
  },
  {
   "cell_type": "code",
   "execution_count": 3,
   "metadata": {
    "collapsed": true
   },
   "outputs": [],
   "source": [
    "train, test, y_train, y_test = train_test_split(df, y, test_size = 0.1,random_state = 42)\n",
    "train, val, y_train, y_val = train_test_split(train, y_train, test_size = 0.25)"
   ]
  },
  {
   "cell_type": "code",
   "execution_count": 4,
   "metadata": {
    "scrolled": false
   },
   "outputs": [
    {
     "name": "stdout",
     "output_type": "stream",
     "text": [
      "Roc-auc score with Catboost: 0.7841281938499387\n"
     ]
    }
   ],
   "source": [
    "clf = CatBoostClassifier(learning_rate=0.1, iterations=100, random_seed=42, eval_metric='AUC', logging_level='Silent')\n",
    "clf.fit(train, y_train, cat_features=cat_features_ids, eval_set=(val, y_val))\n",
    "prediction = clf.predict_proba(test)\n",
    "print('Roc-auc score with Catboost:',roc_auc_score(y_test, prediction[:, 1]))"
   ]
  },
  {
   "cell_type": "code",
   "execution_count": 5,
   "metadata": {},
   "outputs": [
    {
     "name": "stdout",
     "output_type": "stream",
     "text": [
      "Roc-auc score with Catboost: 0.7930162585925847\n"
     ]
    }
   ],
   "source": [
    "kfold = KFold(n_splits=10)\n",
    "pred = []\n",
    "train, test, y_train, y_test = train_test_split(df, y, test_size = 0.1,random_state = 42)\n",
    "for train_ind, test_ind in kfold.split(train):\n",
    "    train_val, test_val, y_train_val, y_test_val = train.iloc[train_ind, :], train.iloc[test_ind, :],\\\n",
    "                                                   y_train.iloc[train_ind], y_train.iloc[test_ind]\n",
    "    clf.fit(train_val, y_train_val, cat_features=cat_features_ids, eval_set=(test_val, y_test_val))\n",
    "    prediction = clf.predict_proba(test)\n",
    "    pred.append(\n",
    "    prediction[:, 1]\n",
    "    )\n",
    "    \n",
    "\n",
    "print('Roc-auc score with Catboost:',roc_auc_score(y_test, np.mean(pred, axis = 0)))"
   ]
  },
  {
   "cell_type": "code",
   "execution_count": null,
   "metadata": {
    "collapsed": true
   },
   "outputs": [],
   "source": []
  }
 ],
 "metadata": {
  "kernelspec": {
   "display_name": "Python 3",
   "language": "python",
   "name": "python3"
  },
  "language_info": {
   "codemirror_mode": {
    "name": "ipython",
    "version": 3
   },
   "file_extension": ".py",
   "mimetype": "text/x-python",
   "name": "python",
   "nbconvert_exporter": "python",
   "pygments_lexer": "ipython3",
   "version": "3.6.1"
  }
 },
 "nbformat": 4,
 "nbformat_minor": 2
}
