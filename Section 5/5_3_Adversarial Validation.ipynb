{
 "cells": [
  {
   "cell_type": "code",
   "execution_count": 1,
   "metadata": {
    "collapsed": true
   },
   "outputs": [],
   "source": [
    "import pandas as pd\n",
    "import numpy as np\n",
    "from itertools import combinations\n",
    "from catboost import CatBoostClassifier\n",
    "from sklearn.model_selection import train_test_split, KFold\n",
    "from sklearn.metrics import roc_auc_score\n",
    "import warnings\n",
    "warnings.filterwarnings(\"ignore\")\n",
    "np.random.seed(42)"
   ]
  },
  {
   "cell_type": "code",
   "execution_count": 2,
   "metadata": {
    "collapsed": true
   },
   "outputs": [],
   "source": [
    "train = pd.read_csv('train.csv')\n",
    "y = train.target\n",
    "test = pd.read_csv('./test.csv')\n",
    "train.drop(['ID', 'target'], axis=1, inplace=True)\n",
    "test.drop(['ID'], axis=1, inplace=True)\n",
    "train.fillna(-9999, inplace=True)\n",
    "test.fillna(-9999, inplace=True)\n",
    "cat_features_ids = np.where(train.apply(pd.Series.nunique) < 30000)[0].tolist()"
   ]
  },
  {
   "cell_type": "code",
   "execution_count": 3,
   "metadata": {},
   "outputs": [
    {
     "name": "stdout",
     "output_type": "stream",
     "text": [
      "Number of train samples from test distribution: 49142\n"
     ]
    }
   ],
   "source": [
    "y1 = np.ones_like(y)\n",
    "y2 = np.zeros((test.shape[0],))\n",
    "y_all = np.hstack([y1, y2])\n",
    "all_ = pd.concat([train, test])\n",
    "clf = CatBoostClassifier(learning_rate=0.1, iterations=100, random_seed=42, eval_metric='AUC', logging_level='Silent')\n",
    "clf.fit(all_, y_all, cat_features=cat_features_ids)\n",
    "prediction = clf.predict(train)\n",
    "best_val = train[prediction == 0]\n",
    "print('Number of train samples from test distribution:', best_val.shape[0])"
   ]
  },
  {
   "cell_type": "code",
   "execution_count": 4,
   "metadata": {},
   "outputs": [
    {
     "name": "stdout",
     "output_type": "stream",
     "text": [
      "Validation score: 0.7470119528903851\n"
     ]
    }
   ],
   "source": [
    "clf = CatBoostClassifier(learning_rate=0.1, iterations=100, random_seed=42, eval_metric='AUC', logging_level='Silent')\n",
    "clf.fit(train.loc[prediction != 0, :], y[prediction != 0], cat_features=cat_features_ids)\n",
    "prediction_val = clf.predict_proba(best_val)\n",
    "print('Validation score:', roc_auc_score(y[prediction == 0], prediction_val[:, 1]))"
   ]
  }
 ],
 "metadata": {
  "kernelspec": {
   "display_name": "Python 3",
   "language": "python",
   "name": "python3"
  },
  "language_info": {
   "codemirror_mode": {
    "name": "ipython",
    "version": 3
   },
   "file_extension": ".py",
   "mimetype": "text/x-python",
   "name": "python",
   "nbconvert_exporter": "python",
   "pygments_lexer": "ipython3",
   "version": "3.6.1"
  }
 },
 "nbformat": 4,
 "nbformat_minor": 2
}
