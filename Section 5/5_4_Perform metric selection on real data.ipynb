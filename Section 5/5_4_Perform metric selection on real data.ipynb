{
 "cells": [
  {
   "cell_type": "code",
   "execution_count": 18,
   "metadata": {
    "collapsed": true
   },
   "outputs": [],
   "source": [
    "import pandas as pd\n",
    "import numpy as np\n",
    "from itertools import combinations\n",
    "from catboost import CatBoostClassifier, CatBoostRegressor\n",
    "from sklearn.model_selection import train_test_split, KFold\n",
    "from sklearn.metrics import mean_squared_error, accuracy_score, recall_score, precision_score, f1_score, roc_auc_score\n",
    "import warnings\n",
    "warnings.filterwarnings(\"ignore\")\n",
    "np.random.seed(42)"
   ]
  },
  {
   "cell_type": "code",
   "execution_count": 19,
   "metadata": {
    "collapsed": true
   },
   "outputs": [],
   "source": [
    "df = pd.read_csv('./train_merc.csv')\n",
    "y = df.y\n",
    "df.drop(['ID', 'y'], axis = 1, inplace=True)\n",
    "cat_features_ids = np.where(df.apply(pd.Series.nunique) < 30000)[0].tolist()"
   ]
  },
  {
   "cell_type": "code",
   "execution_count": 20,
   "metadata": {},
   "outputs": [
    {
     "name": "stdout",
     "output_type": "stream",
     "text": [
      "28.460498941515414\n",
      "27.65863337187866\n"
     ]
    }
   ],
   "source": [
    "pred = [10,10,10,10,10,10,10,10,10,10]\n",
    "y_real = [10,10,10,10,10,10,10,10,10,100]\n",
    "print(np.sqrt(mean_squared_error(pred, y_real)))\n",
    "\n",
    "pred = [25,25,25,25,25,25,25,25,25,25]\n",
    "y_real = [10,10,10,10,10,10,10,10,10,100]\n",
    "print(np.sqrt(mean_squared_error(pred, y_real)))"
   ]
  },
  {
   "cell_type": "code",
   "execution_count": 21,
   "metadata": {},
   "outputs": [
    {
     "name": "stdout",
     "output_type": "stream",
     "text": [
      "RMSE score: 7.373856282754891\n",
      "RMSLE score: 0.06776094386349317\n"
     ]
    }
   ],
   "source": [
    "train, test, y_train, y_test = train_test_split(df, y, test_size = 0.1)\n",
    "clf = CatBoostRegressor(learning_rate=0.1, iterations=100, random_seed=42, logging_level='Silent')\n",
    "clf.fit(train, y_train, cat_features=cat_features_ids)\n",
    "prediction = clf.predict(test)\n",
    "print('RMSE score:', np.sqrt(mean_squared_error(y_test, prediction)))\n",
    "print('RMSLE score:', np.sqrt(mean_squared_error(np.log1p(y_test), np.log1p(prediction))))"
   ]
  },
  {
   "cell_type": "code",
   "execution_count": 23,
   "metadata": {
    "collapsed": true
   },
   "outputs": [],
   "source": [
    "df = pd.read_csv('./train_sample.csv.zip')\n",
    "y = df.is_attributed\n",
    "df.drop(['click_time', 'attributed_time', 'is_attributed'], axis = 1, inplace=True)\n",
    "cat_features_ids = np.where(df.apply(pd.Series.nunique) < 30000)[0].tolist()"
   ]
  },
  {
   "cell_type": "code",
   "execution_count": 24,
   "metadata": {},
   "outputs": [
    {
     "name": "stdout",
     "output_type": "stream",
     "text": [
      "\t\t $a(x)$ = 1 \t\t\n",
      "\n",
      "Accuracy all positive: 0.00227\n",
      "Recall all positive: 1.0\n",
      "Precision all positive: 0.00227\n",
      "F1 score all positive: 0.004529717541181518\n",
      "Roc auc score all positive: 0.5\n",
      "\n",
      "\n",
      "\n",
      "\t\t $a(x)$ = 0 \t\t\n",
      "\n",
      "Accuracy all negative: 0.99773\n",
      "Recall all negative: 0.0\n",
      "Precision all negative: 0.0\n",
      "F1 score all negative: 0.0\n",
      "Roc auc score all positive: 0.5\n",
      "\n",
      "\n",
      "\n",
      "\t\t Catboost \t\t\n",
      "\n",
      "Accuracy using Catboost: 0.9986\n",
      "Recall using Catboost: 0.391304347826087\n",
      "Precision using Catboost: 1.0\n",
      "F1 score using Catboost: 0.5625\n",
      "Roc auc score using Catboost: 0.9189287535244104\n"
     ]
    }
   ],
   "source": [
    "y_positive = np.ones_like(y)\n",
    "y_negative = np.zeros_like(y)\n",
    "print('\\t\\t $a(x)$ = 1 \\t\\t\\n')\n",
    "print('Accuracy all positive:', accuracy_score(y, y_positive))\n",
    "print('Recall all positive:', recall_score(y, y_positive))\n",
    "print('Precision all positive:', precision_score(y, y_positive))\n",
    "print('F1 score all positive:', f1_score(y, y_positive))\n",
    "print('Roc auc score all positive:', roc_auc_score(y, y_positive))\n",
    "print('\\n\\n')\n",
    "print('\\t\\t $a(x)$ = 0 \\t\\t\\n')\n",
    "print('Accuracy all negative:', accuracy_score(y, y_negative))\n",
    "print('Recall all negative:', recall_score(y, y_negative))\n",
    "print('Precision all negative:', precision_score(y, y_negative))\n",
    "print('F1 score all negative:', f1_score(y, y_negative))\n",
    "print('Roc auc score all positive:', roc_auc_score(y, y_negative))\n",
    "\n",
    "print('\\n\\n')\n",
    "print('\\t\\t Catboost \\t\\t\\n')\n",
    "train, test, y_train, y_test = train_test_split(df, y, test_size = 0.1)\n",
    "\n",
    "clf = CatBoostClassifier(learning_rate=0.1, iterations=100, random_seed=42, \n",
    "                         eval_metric='AUC', logging_level='Silent', l2_leaf_reg=3, \n",
    "                         model_size_reg = 3)\n",
    "clf.fit(train, y_train, cat_features=cat_features_ids)\n",
    "prediction = clf.predict_proba(test)\n",
    "\n",
    "print('Accuracy using Catboost:', accuracy_score(y_test, prediction[:, 1] > 0.5))\n",
    "print('Recall using Catboost:', recall_score(y_test, prediction[:, 1] > 0.5))\n",
    "print('Precision using Catboost:', precision_score(y_test, prediction[:, 1] > 0.5))\n",
    "print('F1 score using Catboost:', f1_score(y_test, prediction[:, 1] > 0.5))\n",
    "print('Roc auc score using Catboost:', roc_auc_score(y_test, prediction[:, 1]))"
   ]
  },
  {
   "cell_type": "code",
   "execution_count": null,
   "metadata": {
    "collapsed": true
   },
   "outputs": [],
   "source": []
  }
 ],
 "metadata": {
  "kernelspec": {
   "display_name": "Python 3",
   "language": "python",
   "name": "python3"
  },
  "language_info": {
   "codemirror_mode": {
    "name": "ipython",
    "version": 3
   },
   "file_extension": ".py",
   "mimetype": "text/x-python",
   "name": "python",
   "nbconvert_exporter": "python",
   "pygments_lexer": "ipython3",
   "version": "3.6.1"
  }
 },
 "nbformat": 4,
 "nbformat_minor": 2
}
